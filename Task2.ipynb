{
 "cells": [
  {
   "cell_type": "markdown",
   "metadata": {},
   "source": [
    "## Регрессия на imdb"
   ]
  },
  {
   "cell_type": "code",
   "execution_count": 1,
   "metadata": {},
   "outputs": [],
   "source": [
    "# ячейка импортов\n",
    "import pandas as pd\n",
    "import numpy as np\n",
    "\n",
    "from sklearn.feature_extraction.text import TfidfVectorizer\n",
    "from sklearn.model_selection import train_test_split\n",
    "from sklearn.model_selection import cross_val_score\n",
    "from sklearn.metrics import mean_absolute_error, mean_squared_error\n",
    "from sklearn import metrics\n",
    "\n",
    "# место для импорта регрессионных моделей\n",
    "from sklearn.linear_model import LinearRegression, Ridge, Lasso, ElasticNet\n",
    "\n",
    "from sklearn.feature_extraction.text import TfidfVectorizer\n",
    "\n",
    "import matplotlib.pyplot as plt \n",
    "import seaborn as sns"
   ]
  },
  {
   "cell_type": "code",
   "execution_count": 2,
   "metadata": {},
   "outputs": [
    {
     "name": "stderr",
     "output_type": "stream",
     "text": [
      "\"unzip\" ­Ґ пў«пҐвбп ў­гваҐ­­Ґ© Ё«Ё ў­Ґи­Ґ©\n",
      "Є®¬ ­¤®©, ЁбЇ®«­пҐ¬®© Їа®Ја ¬¬®© Ё«Ё Ї ЄҐв­л¬ д ©«®¬.\n"
     ]
    }
   ],
   "source": [
    "! unzip \"imdb.zip\" "
   ]
  },
  {
   "cell_type": "code",
   "execution_count": 3,
   "metadata": {},
   "outputs": [
    {
     "data": {
      "text/html": [
       "<div>\n",
       "<style scoped>\n",
       "    .dataframe tbody tr th:only-of-type {\n",
       "        vertical-align: middle;\n",
       "    }\n",
       "\n",
       "    .dataframe tbody tr th {\n",
       "        vertical-align: top;\n",
       "    }\n",
       "\n",
       "    .dataframe thead th {\n",
       "        text-align: right;\n",
       "    }\n",
       "</style>\n",
       "<table border=\"1\" class=\"dataframe\">\n",
       "  <thead>\n",
       "    <tr style=\"text-align: right;\">\n",
       "      <th></th>\n",
       "      <th>Rank</th>\n",
       "      <th>Title</th>\n",
       "      <th>Genre</th>\n",
       "      <th>Description</th>\n",
       "      <th>Director</th>\n",
       "      <th>Actors</th>\n",
       "      <th>Year</th>\n",
       "      <th>Runtime (Minutes)</th>\n",
       "      <th>Rating</th>\n",
       "      <th>Votes</th>\n",
       "      <th>Revenue (Millions)</th>\n",
       "      <th>Metascore</th>\n",
       "    </tr>\n",
       "  </thead>\n",
       "  <tbody>\n",
       "    <tr>\n",
       "      <th>0</th>\n",
       "      <td>1</td>\n",
       "      <td>Guardians of the Galaxy</td>\n",
       "      <td>Action,Adventure,Sci-Fi</td>\n",
       "      <td>A group of intergalactic criminals are forced ...</td>\n",
       "      <td>James Gunn</td>\n",
       "      <td>Chris Pratt, Vin Diesel, Bradley Cooper, Zoe S...</td>\n",
       "      <td>2014</td>\n",
       "      <td>121</td>\n",
       "      <td>8.1</td>\n",
       "      <td>757074</td>\n",
       "      <td>333.13</td>\n",
       "      <td>76.0</td>\n",
       "    </tr>\n",
       "    <tr>\n",
       "      <th>1</th>\n",
       "      <td>2</td>\n",
       "      <td>Prometheus</td>\n",
       "      <td>Adventure,Mystery,Sci-Fi</td>\n",
       "      <td>Following clues to the origin of mankind, a te...</td>\n",
       "      <td>Ridley Scott</td>\n",
       "      <td>Noomi Rapace, Logan Marshall-Green, Michael Fa...</td>\n",
       "      <td>2012</td>\n",
       "      <td>124</td>\n",
       "      <td>7.0</td>\n",
       "      <td>485820</td>\n",
       "      <td>126.46</td>\n",
       "      <td>65.0</td>\n",
       "    </tr>\n",
       "    <tr>\n",
       "      <th>2</th>\n",
       "      <td>3</td>\n",
       "      <td>Split</td>\n",
       "      <td>Horror,Thriller</td>\n",
       "      <td>Three girls are kidnapped by a man with a diag...</td>\n",
       "      <td>M. Night Shyamalan</td>\n",
       "      <td>James McAvoy, Anya Taylor-Joy, Haley Lu Richar...</td>\n",
       "      <td>2016</td>\n",
       "      <td>117</td>\n",
       "      <td>7.3</td>\n",
       "      <td>157606</td>\n",
       "      <td>138.12</td>\n",
       "      <td>62.0</td>\n",
       "    </tr>\n",
       "    <tr>\n",
       "      <th>3</th>\n",
       "      <td>4</td>\n",
       "      <td>Sing</td>\n",
       "      <td>Animation,Comedy,Family</td>\n",
       "      <td>In a city of humanoid animals, a hustling thea...</td>\n",
       "      <td>Christophe Lourdelet</td>\n",
       "      <td>Matthew McConaughey,Reese Witherspoon, Seth Ma...</td>\n",
       "      <td>2016</td>\n",
       "      <td>108</td>\n",
       "      <td>7.2</td>\n",
       "      <td>60545</td>\n",
       "      <td>270.32</td>\n",
       "      <td>59.0</td>\n",
       "    </tr>\n",
       "    <tr>\n",
       "      <th>4</th>\n",
       "      <td>5</td>\n",
       "      <td>Suicide Squad</td>\n",
       "      <td>Action,Adventure,Fantasy</td>\n",
       "      <td>A secret government agency recruits some of th...</td>\n",
       "      <td>David Ayer</td>\n",
       "      <td>Will Smith, Jared Leto, Margot Robbie, Viola D...</td>\n",
       "      <td>2016</td>\n",
       "      <td>123</td>\n",
       "      <td>6.2</td>\n",
       "      <td>393727</td>\n",
       "      <td>325.02</td>\n",
       "      <td>40.0</td>\n",
       "    </tr>\n",
       "    <tr>\n",
       "      <th>...</th>\n",
       "      <td>...</td>\n",
       "      <td>...</td>\n",
       "      <td>...</td>\n",
       "      <td>...</td>\n",
       "      <td>...</td>\n",
       "      <td>...</td>\n",
       "      <td>...</td>\n",
       "      <td>...</td>\n",
       "      <td>...</td>\n",
       "      <td>...</td>\n",
       "      <td>...</td>\n",
       "      <td>...</td>\n",
       "    </tr>\n",
       "    <tr>\n",
       "      <th>995</th>\n",
       "      <td>996</td>\n",
       "      <td>Secret in Their Eyes</td>\n",
       "      <td>Crime,Drama,Mystery</td>\n",
       "      <td>A tight-knit team of rising investigators, alo...</td>\n",
       "      <td>Billy Ray</td>\n",
       "      <td>Chiwetel Ejiofor, Nicole Kidman, Julia Roberts...</td>\n",
       "      <td>2015</td>\n",
       "      <td>111</td>\n",
       "      <td>6.2</td>\n",
       "      <td>27585</td>\n",
       "      <td>NaN</td>\n",
       "      <td>45.0</td>\n",
       "    </tr>\n",
       "    <tr>\n",
       "      <th>996</th>\n",
       "      <td>997</td>\n",
       "      <td>Hostel: Part II</td>\n",
       "      <td>Horror</td>\n",
       "      <td>Three American college students studying abroa...</td>\n",
       "      <td>Eli Roth</td>\n",
       "      <td>Lauren German, Heather Matarazzo, Bijou Philli...</td>\n",
       "      <td>2007</td>\n",
       "      <td>94</td>\n",
       "      <td>5.5</td>\n",
       "      <td>73152</td>\n",
       "      <td>17.54</td>\n",
       "      <td>46.0</td>\n",
       "    </tr>\n",
       "    <tr>\n",
       "      <th>997</th>\n",
       "      <td>998</td>\n",
       "      <td>Step Up 2: The Streets</td>\n",
       "      <td>Drama,Music,Romance</td>\n",
       "      <td>Romantic sparks occur between two dance studen...</td>\n",
       "      <td>Jon M. Chu</td>\n",
       "      <td>Robert Hoffman, Briana Evigan, Cassie Ventura,...</td>\n",
       "      <td>2008</td>\n",
       "      <td>98</td>\n",
       "      <td>6.2</td>\n",
       "      <td>70699</td>\n",
       "      <td>58.01</td>\n",
       "      <td>50.0</td>\n",
       "    </tr>\n",
       "    <tr>\n",
       "      <th>998</th>\n",
       "      <td>999</td>\n",
       "      <td>Search Party</td>\n",
       "      <td>Adventure,Comedy</td>\n",
       "      <td>A pair of friends embark on a mission to reuni...</td>\n",
       "      <td>Scot Armstrong</td>\n",
       "      <td>Adam Pally, T.J. Miller, Thomas Middleditch,Sh...</td>\n",
       "      <td>2014</td>\n",
       "      <td>93</td>\n",
       "      <td>5.6</td>\n",
       "      <td>4881</td>\n",
       "      <td>NaN</td>\n",
       "      <td>22.0</td>\n",
       "    </tr>\n",
       "    <tr>\n",
       "      <th>999</th>\n",
       "      <td>1000</td>\n",
       "      <td>Nine Lives</td>\n",
       "      <td>Comedy,Family,Fantasy</td>\n",
       "      <td>A stuffy businessman finds himself trapped ins...</td>\n",
       "      <td>Barry Sonnenfeld</td>\n",
       "      <td>Kevin Spacey, Jennifer Garner, Robbie Amell,Ch...</td>\n",
       "      <td>2016</td>\n",
       "      <td>87</td>\n",
       "      <td>5.3</td>\n",
       "      <td>12435</td>\n",
       "      <td>19.64</td>\n",
       "      <td>11.0</td>\n",
       "    </tr>\n",
       "  </tbody>\n",
       "</table>\n",
       "<p>1000 rows × 12 columns</p>\n",
       "</div>"
      ],
      "text/plain": [
       "     Rank                    Title                     Genre  \\\n",
       "0       1  Guardians of the Galaxy   Action,Adventure,Sci-Fi   \n",
       "1       2               Prometheus  Adventure,Mystery,Sci-Fi   \n",
       "2       3                    Split           Horror,Thriller   \n",
       "3       4                     Sing   Animation,Comedy,Family   \n",
       "4       5            Suicide Squad  Action,Adventure,Fantasy   \n",
       "..    ...                      ...                       ...   \n",
       "995   996     Secret in Their Eyes       Crime,Drama,Mystery   \n",
       "996   997          Hostel: Part II                    Horror   \n",
       "997   998   Step Up 2: The Streets       Drama,Music,Romance   \n",
       "998   999             Search Party          Adventure,Comedy   \n",
       "999  1000               Nine Lives     Comedy,Family,Fantasy   \n",
       "\n",
       "                                           Description              Director  \\\n",
       "0    A group of intergalactic criminals are forced ...            James Gunn   \n",
       "1    Following clues to the origin of mankind, a te...          Ridley Scott   \n",
       "2    Three girls are kidnapped by a man with a diag...    M. Night Shyamalan   \n",
       "3    In a city of humanoid animals, a hustling thea...  Christophe Lourdelet   \n",
       "4    A secret government agency recruits some of th...            David Ayer   \n",
       "..                                                 ...                   ...   \n",
       "995  A tight-knit team of rising investigators, alo...             Billy Ray   \n",
       "996  Three American college students studying abroa...              Eli Roth   \n",
       "997  Romantic sparks occur between two dance studen...            Jon M. Chu   \n",
       "998  A pair of friends embark on a mission to reuni...        Scot Armstrong   \n",
       "999  A stuffy businessman finds himself trapped ins...      Barry Sonnenfeld   \n",
       "\n",
       "                                                Actors  Year  \\\n",
       "0    Chris Pratt, Vin Diesel, Bradley Cooper, Zoe S...  2014   \n",
       "1    Noomi Rapace, Logan Marshall-Green, Michael Fa...  2012   \n",
       "2    James McAvoy, Anya Taylor-Joy, Haley Lu Richar...  2016   \n",
       "3    Matthew McConaughey,Reese Witherspoon, Seth Ma...  2016   \n",
       "4    Will Smith, Jared Leto, Margot Robbie, Viola D...  2016   \n",
       "..                                                 ...   ...   \n",
       "995  Chiwetel Ejiofor, Nicole Kidman, Julia Roberts...  2015   \n",
       "996  Lauren German, Heather Matarazzo, Bijou Philli...  2007   \n",
       "997  Robert Hoffman, Briana Evigan, Cassie Ventura,...  2008   \n",
       "998  Adam Pally, T.J. Miller, Thomas Middleditch,Sh...  2014   \n",
       "999  Kevin Spacey, Jennifer Garner, Robbie Amell,Ch...  2016   \n",
       "\n",
       "     Runtime (Minutes)  Rating   Votes  Revenue (Millions)  Metascore  \n",
       "0                  121     8.1  757074              333.13       76.0  \n",
       "1                  124     7.0  485820              126.46       65.0  \n",
       "2                  117     7.3  157606              138.12       62.0  \n",
       "3                  108     7.2   60545              270.32       59.0  \n",
       "4                  123     6.2  393727              325.02       40.0  \n",
       "..                 ...     ...     ...                 ...        ...  \n",
       "995                111     6.2   27585                 NaN       45.0  \n",
       "996                 94     5.5   73152               17.54       46.0  \n",
       "997                 98     6.2   70699               58.01       50.0  \n",
       "998                 93     5.6    4881                 NaN       22.0  \n",
       "999                 87     5.3   12435               19.64       11.0  \n",
       "\n",
       "[1000 rows x 12 columns]"
      ]
     },
     "execution_count": 3,
     "metadata": {},
     "output_type": "execute_result"
    }
   ],
   "source": [
    "data = pd.read_csv('IMDB-Movie-Data.csv') # замените на актуальный путь\n",
    "\n",
    "data"
   ]
  },
  {
   "cell_type": "markdown",
   "metadata": {},
   "source": [
    "## Регрессии:"
   ]
  },
  {
   "cell_type": "markdown",
   "metadata": {},
   "source": [
    "В этом датасете для регрессии есть несколько опций, выбирайте то, что более интересно: \n",
    "\n",
    "- определить рейтинг по описанию фильма\n",
    "- определить длительность фильма по году создания\n",
    "- определить рейтинг по длине фильма\n",
    "- Ваша идея"
   ]
  },
  {
   "cell_type": "markdown",
   "metadata": {},
   "source": [
    "Шаги выполнения: \n",
    "- Определите, какие части датасета необходимы для вашей задачи\n",
    "- Если работаете с текстовыми ячейками, векторизуйте тексты\n",
    "- Разделите данные на обучающую и тестовую выборку\n",
    "- Попробуйте обучить [разные регрессионные модели](https://scikit-learn.org/stable/modules/classes.html#module-sklearn.linear_model) (не забудьте импортировать их в эту тетрадку)\n",
    "\n",
    "- Для каждой модели посмотрите на метрики. \n",
    "\n",
    "Какая/какие модель/ли справляются с выбранной Вами задачей наиболее эффективно?"
   ]
  },
  {
   "cell_type": "markdown",
   "metadata": {},
   "source": [
    "## EDA"
   ]
  },
  {
   "cell_type": "code",
   "execution_count": 4,
   "metadata": {},
   "outputs": [
    {
     "name": "stdout",
     "output_type": "stream",
     "text": [
      "192\n",
      "Rank                    0\n",
      "Title                   0\n",
      "Genre                   0\n",
      "Description             0\n",
      "Director                0\n",
      "Actors                  0\n",
      "Year                    0\n",
      "Runtime (Minutes)       0\n",
      "Rating                  0\n",
      "Votes                   0\n",
      "Revenue (Millions)    128\n",
      "Metascore              64\n",
      "dtype: int64\n"
     ]
    }
   ],
   "source": [
    "print(data.isnull().values.sum())\n",
    "print(data.isnull().sum())"
   ]
  },
  {
   "cell_type": "code",
   "execution_count": 5,
   "metadata": {},
   "outputs": [],
   "source": [
    "data.dropna(how='any', inplace=True)"
   ]
  },
  {
   "cell_type": "code",
   "execution_count": 6,
   "metadata": {},
   "outputs": [
    {
     "name": "stdout",
     "output_type": "stream",
     "text": [
      "0\n",
      "Rank                  0\n",
      "Title                 0\n",
      "Genre                 0\n",
      "Description           0\n",
      "Director              0\n",
      "Actors                0\n",
      "Year                  0\n",
      "Runtime (Minutes)     0\n",
      "Rating                0\n",
      "Votes                 0\n",
      "Revenue (Millions)    0\n",
      "Metascore             0\n",
      "dtype: int64\n"
     ]
    }
   ],
   "source": [
    "print(data.isnull().values.sum())\n",
    "print(data.isnull().sum())"
   ]
  },
  {
   "cell_type": "code",
   "execution_count": 7,
   "metadata": {},
   "outputs": [],
   "source": [
    "data.drop_duplicates(keep=\"first\", inplace=True)"
   ]
  },
  {
   "cell_type": "code",
   "execution_count": 8,
   "metadata": {},
   "outputs": [],
   "source": [
    "data = data.reset_index(drop=True)"
   ]
  },
  {
   "cell_type": "code",
   "execution_count": 9,
   "metadata": {},
   "outputs": [
    {
     "data": {
      "text/html": [
       "<div>\n",
       "<style scoped>\n",
       "    .dataframe tbody tr th:only-of-type {\n",
       "        vertical-align: middle;\n",
       "    }\n",
       "\n",
       "    .dataframe tbody tr th {\n",
       "        vertical-align: top;\n",
       "    }\n",
       "\n",
       "    .dataframe thead th {\n",
       "        text-align: right;\n",
       "    }\n",
       "</style>\n",
       "<table border=\"1\" class=\"dataframe\">\n",
       "  <thead>\n",
       "    <tr style=\"text-align: right;\">\n",
       "      <th></th>\n",
       "      <th>Rank</th>\n",
       "      <th>Title</th>\n",
       "      <th>Genre</th>\n",
       "      <th>Description</th>\n",
       "      <th>Director</th>\n",
       "      <th>Actors</th>\n",
       "      <th>Year</th>\n",
       "      <th>Runtime (Minutes)</th>\n",
       "      <th>Rating</th>\n",
       "      <th>Votes</th>\n",
       "      <th>Revenue (Millions)</th>\n",
       "      <th>Metascore</th>\n",
       "    </tr>\n",
       "  </thead>\n",
       "  <tbody>\n",
       "    <tr>\n",
       "      <th>0</th>\n",
       "      <td>1</td>\n",
       "      <td>Guardians of the Galaxy</td>\n",
       "      <td>Action,Adventure,Sci-Fi</td>\n",
       "      <td>A group of intergalactic criminals are forced ...</td>\n",
       "      <td>James Gunn</td>\n",
       "      <td>Chris Pratt, Vin Diesel, Bradley Cooper, Zoe S...</td>\n",
       "      <td>2014</td>\n",
       "      <td>121</td>\n",
       "      <td>8.1</td>\n",
       "      <td>757074</td>\n",
       "      <td>333.13</td>\n",
       "      <td>76.0</td>\n",
       "    </tr>\n",
       "    <tr>\n",
       "      <th>1</th>\n",
       "      <td>2</td>\n",
       "      <td>Prometheus</td>\n",
       "      <td>Adventure,Mystery,Sci-Fi</td>\n",
       "      <td>Following clues to the origin of mankind, a te...</td>\n",
       "      <td>Ridley Scott</td>\n",
       "      <td>Noomi Rapace, Logan Marshall-Green, Michael Fa...</td>\n",
       "      <td>2012</td>\n",
       "      <td>124</td>\n",
       "      <td>7.0</td>\n",
       "      <td>485820</td>\n",
       "      <td>126.46</td>\n",
       "      <td>65.0</td>\n",
       "    </tr>\n",
       "    <tr>\n",
       "      <th>2</th>\n",
       "      <td>3</td>\n",
       "      <td>Split</td>\n",
       "      <td>Horror,Thriller</td>\n",
       "      <td>Three girls are kidnapped by a man with a diag...</td>\n",
       "      <td>M. Night Shyamalan</td>\n",
       "      <td>James McAvoy, Anya Taylor-Joy, Haley Lu Richar...</td>\n",
       "      <td>2016</td>\n",
       "      <td>117</td>\n",
       "      <td>7.3</td>\n",
       "      <td>157606</td>\n",
       "      <td>138.12</td>\n",
       "      <td>62.0</td>\n",
       "    </tr>\n",
       "    <tr>\n",
       "      <th>3</th>\n",
       "      <td>4</td>\n",
       "      <td>Sing</td>\n",
       "      <td>Animation,Comedy,Family</td>\n",
       "      <td>In a city of humanoid animals, a hustling thea...</td>\n",
       "      <td>Christophe Lourdelet</td>\n",
       "      <td>Matthew McConaughey,Reese Witherspoon, Seth Ma...</td>\n",
       "      <td>2016</td>\n",
       "      <td>108</td>\n",
       "      <td>7.2</td>\n",
       "      <td>60545</td>\n",
       "      <td>270.32</td>\n",
       "      <td>59.0</td>\n",
       "    </tr>\n",
       "    <tr>\n",
       "      <th>4</th>\n",
       "      <td>5</td>\n",
       "      <td>Suicide Squad</td>\n",
       "      <td>Action,Adventure,Fantasy</td>\n",
       "      <td>A secret government agency recruits some of th...</td>\n",
       "      <td>David Ayer</td>\n",
       "      <td>Will Smith, Jared Leto, Margot Robbie, Viola D...</td>\n",
       "      <td>2016</td>\n",
       "      <td>123</td>\n",
       "      <td>6.2</td>\n",
       "      <td>393727</td>\n",
       "      <td>325.02</td>\n",
       "      <td>40.0</td>\n",
       "    </tr>\n",
       "    <tr>\n",
       "      <th>...</th>\n",
       "      <td>...</td>\n",
       "      <td>...</td>\n",
       "      <td>...</td>\n",
       "      <td>...</td>\n",
       "      <td>...</td>\n",
       "      <td>...</td>\n",
       "      <td>...</td>\n",
       "      <td>...</td>\n",
       "      <td>...</td>\n",
       "      <td>...</td>\n",
       "      <td>...</td>\n",
       "      <td>...</td>\n",
       "    </tr>\n",
       "    <tr>\n",
       "      <th>833</th>\n",
       "      <td>994</td>\n",
       "      <td>Resident Evil: Afterlife</td>\n",
       "      <td>Action,Adventure,Horror</td>\n",
       "      <td>While still out to destroy the evil Umbrella C...</td>\n",
       "      <td>Paul W.S. Anderson</td>\n",
       "      <td>Milla Jovovich, Ali Larter, Wentworth Miller,K...</td>\n",
       "      <td>2010</td>\n",
       "      <td>97</td>\n",
       "      <td>5.9</td>\n",
       "      <td>140900</td>\n",
       "      <td>60.13</td>\n",
       "      <td>37.0</td>\n",
       "    </tr>\n",
       "    <tr>\n",
       "      <th>834</th>\n",
       "      <td>995</td>\n",
       "      <td>Project X</td>\n",
       "      <td>Comedy</td>\n",
       "      <td>3 high school seniors throw a birthday party t...</td>\n",
       "      <td>Nima Nourizadeh</td>\n",
       "      <td>Thomas Mann, Oliver Cooper, Jonathan Daniel Br...</td>\n",
       "      <td>2012</td>\n",
       "      <td>88</td>\n",
       "      <td>6.7</td>\n",
       "      <td>164088</td>\n",
       "      <td>54.72</td>\n",
       "      <td>48.0</td>\n",
       "    </tr>\n",
       "    <tr>\n",
       "      <th>835</th>\n",
       "      <td>997</td>\n",
       "      <td>Hostel: Part II</td>\n",
       "      <td>Horror</td>\n",
       "      <td>Three American college students studying abroa...</td>\n",
       "      <td>Eli Roth</td>\n",
       "      <td>Lauren German, Heather Matarazzo, Bijou Philli...</td>\n",
       "      <td>2007</td>\n",
       "      <td>94</td>\n",
       "      <td>5.5</td>\n",
       "      <td>73152</td>\n",
       "      <td>17.54</td>\n",
       "      <td>46.0</td>\n",
       "    </tr>\n",
       "    <tr>\n",
       "      <th>836</th>\n",
       "      <td>998</td>\n",
       "      <td>Step Up 2: The Streets</td>\n",
       "      <td>Drama,Music,Romance</td>\n",
       "      <td>Romantic sparks occur between two dance studen...</td>\n",
       "      <td>Jon M. Chu</td>\n",
       "      <td>Robert Hoffman, Briana Evigan, Cassie Ventura,...</td>\n",
       "      <td>2008</td>\n",
       "      <td>98</td>\n",
       "      <td>6.2</td>\n",
       "      <td>70699</td>\n",
       "      <td>58.01</td>\n",
       "      <td>50.0</td>\n",
       "    </tr>\n",
       "    <tr>\n",
       "      <th>837</th>\n",
       "      <td>1000</td>\n",
       "      <td>Nine Lives</td>\n",
       "      <td>Comedy,Family,Fantasy</td>\n",
       "      <td>A stuffy businessman finds himself trapped ins...</td>\n",
       "      <td>Barry Sonnenfeld</td>\n",
       "      <td>Kevin Spacey, Jennifer Garner, Robbie Amell,Ch...</td>\n",
       "      <td>2016</td>\n",
       "      <td>87</td>\n",
       "      <td>5.3</td>\n",
       "      <td>12435</td>\n",
       "      <td>19.64</td>\n",
       "      <td>11.0</td>\n",
       "    </tr>\n",
       "  </tbody>\n",
       "</table>\n",
       "<p>838 rows × 12 columns</p>\n",
       "</div>"
      ],
      "text/plain": [
       "     Rank                     Title                     Genre  \\\n",
       "0       1   Guardians of the Galaxy   Action,Adventure,Sci-Fi   \n",
       "1       2                Prometheus  Adventure,Mystery,Sci-Fi   \n",
       "2       3                     Split           Horror,Thriller   \n",
       "3       4                      Sing   Animation,Comedy,Family   \n",
       "4       5             Suicide Squad  Action,Adventure,Fantasy   \n",
       "..    ...                       ...                       ...   \n",
       "833   994  Resident Evil: Afterlife   Action,Adventure,Horror   \n",
       "834   995                 Project X                    Comedy   \n",
       "835   997           Hostel: Part II                    Horror   \n",
       "836   998    Step Up 2: The Streets       Drama,Music,Romance   \n",
       "837  1000                Nine Lives     Comedy,Family,Fantasy   \n",
       "\n",
       "                                           Description              Director  \\\n",
       "0    A group of intergalactic criminals are forced ...            James Gunn   \n",
       "1    Following clues to the origin of mankind, a te...          Ridley Scott   \n",
       "2    Three girls are kidnapped by a man with a diag...    M. Night Shyamalan   \n",
       "3    In a city of humanoid animals, a hustling thea...  Christophe Lourdelet   \n",
       "4    A secret government agency recruits some of th...            David Ayer   \n",
       "..                                                 ...                   ...   \n",
       "833  While still out to destroy the evil Umbrella C...    Paul W.S. Anderson   \n",
       "834  3 high school seniors throw a birthday party t...       Nima Nourizadeh   \n",
       "835  Three American college students studying abroa...              Eli Roth   \n",
       "836  Romantic sparks occur between two dance studen...            Jon M. Chu   \n",
       "837  A stuffy businessman finds himself trapped ins...      Barry Sonnenfeld   \n",
       "\n",
       "                                                Actors  Year  \\\n",
       "0    Chris Pratt, Vin Diesel, Bradley Cooper, Zoe S...  2014   \n",
       "1    Noomi Rapace, Logan Marshall-Green, Michael Fa...  2012   \n",
       "2    James McAvoy, Anya Taylor-Joy, Haley Lu Richar...  2016   \n",
       "3    Matthew McConaughey,Reese Witherspoon, Seth Ma...  2016   \n",
       "4    Will Smith, Jared Leto, Margot Robbie, Viola D...  2016   \n",
       "..                                                 ...   ...   \n",
       "833  Milla Jovovich, Ali Larter, Wentworth Miller,K...  2010   \n",
       "834  Thomas Mann, Oliver Cooper, Jonathan Daniel Br...  2012   \n",
       "835  Lauren German, Heather Matarazzo, Bijou Philli...  2007   \n",
       "836  Robert Hoffman, Briana Evigan, Cassie Ventura,...  2008   \n",
       "837  Kevin Spacey, Jennifer Garner, Robbie Amell,Ch...  2016   \n",
       "\n",
       "     Runtime (Minutes)  Rating   Votes  Revenue (Millions)  Metascore  \n",
       "0                  121     8.1  757074              333.13       76.0  \n",
       "1                  124     7.0  485820              126.46       65.0  \n",
       "2                  117     7.3  157606              138.12       62.0  \n",
       "3                  108     7.2   60545              270.32       59.0  \n",
       "4                  123     6.2  393727              325.02       40.0  \n",
       "..                 ...     ...     ...                 ...        ...  \n",
       "833                 97     5.9  140900               60.13       37.0  \n",
       "834                 88     6.7  164088               54.72       48.0  \n",
       "835                 94     5.5   73152               17.54       46.0  \n",
       "836                 98     6.2   70699               58.01       50.0  \n",
       "837                 87     5.3   12435               19.64       11.0  \n",
       "\n",
       "[838 rows x 12 columns]"
      ]
     },
     "execution_count": 9,
     "metadata": {},
     "output_type": "execute_result"
    }
   ],
   "source": [
    "data"
   ]
  },
  {
   "cell_type": "code",
   "execution_count": 10,
   "metadata": {
    "scrolled": true
   },
   "outputs": [
    {
     "data": {
      "text/html": [
       "<div>\n",
       "<style scoped>\n",
       "    .dataframe tbody tr th:only-of-type {\n",
       "        vertical-align: middle;\n",
       "    }\n",
       "\n",
       "    .dataframe tbody tr th {\n",
       "        vertical-align: top;\n",
       "    }\n",
       "\n",
       "    .dataframe thead th {\n",
       "        text-align: right;\n",
       "    }\n",
       "</style>\n",
       "<table border=\"1\" class=\"dataframe\">\n",
       "  <thead>\n",
       "    <tr style=\"text-align: right;\">\n",
       "      <th></th>\n",
       "      <th>Rank</th>\n",
       "      <th>Year</th>\n",
       "      <th>Runtime (Minutes)</th>\n",
       "      <th>Rating</th>\n",
       "      <th>Votes</th>\n",
       "      <th>Revenue (Millions)</th>\n",
       "      <th>Metascore</th>\n",
       "    </tr>\n",
       "  </thead>\n",
       "  <tbody>\n",
       "    <tr>\n",
       "      <th>Rank</th>\n",
       "      <td>1.000000</td>\n",
       "      <td>-0.312809</td>\n",
       "      <td>-0.254783</td>\n",
       "      <td>-0.243125</td>\n",
       "      <td>-0.303284</td>\n",
       "      <td>-0.273170</td>\n",
       "      <td>-0.195909</td>\n",
       "    </tr>\n",
       "    <tr>\n",
       "      <th>Year</th>\n",
       "      <td>-0.312809</td>\n",
       "      <td>1.000000</td>\n",
       "      <td>-0.101933</td>\n",
       "      <td>-0.145703</td>\n",
       "      <td>-0.362445</td>\n",
       "      <td>-0.129198</td>\n",
       "      <td>-0.062303</td>\n",
       "    </tr>\n",
       "    <tr>\n",
       "      <th>Runtime (Minutes)</th>\n",
       "      <td>-0.254783</td>\n",
       "      <td>-0.101933</td>\n",
       "      <td>1.000000</td>\n",
       "      <td>0.374566</td>\n",
       "      <td>0.399298</td>\n",
       "      <td>0.281721</td>\n",
       "      <td>0.221397</td>\n",
       "    </tr>\n",
       "    <tr>\n",
       "      <th>Rating</th>\n",
       "      <td>-0.243125</td>\n",
       "      <td>-0.145703</td>\n",
       "      <td>0.374566</td>\n",
       "      <td>1.000000</td>\n",
       "      <td>0.517452</td>\n",
       "      <td>0.217106</td>\n",
       "      <td>0.672731</td>\n",
       "    </tr>\n",
       "    <tr>\n",
       "      <th>Votes</th>\n",
       "      <td>-0.303284</td>\n",
       "      <td>-0.362445</td>\n",
       "      <td>0.399298</td>\n",
       "      <td>0.517452</td>\n",
       "      <td>1.000000</td>\n",
       "      <td>0.636833</td>\n",
       "      <td>0.332674</td>\n",
       "    </tr>\n",
       "    <tr>\n",
       "      <th>Revenue (Millions)</th>\n",
       "      <td>-0.273170</td>\n",
       "      <td>-0.129198</td>\n",
       "      <td>0.281721</td>\n",
       "      <td>0.217106</td>\n",
       "      <td>0.636833</td>\n",
       "      <td>1.000000</td>\n",
       "      <td>0.142397</td>\n",
       "    </tr>\n",
       "    <tr>\n",
       "      <th>Metascore</th>\n",
       "      <td>-0.195909</td>\n",
       "      <td>-0.062303</td>\n",
       "      <td>0.221397</td>\n",
       "      <td>0.672731</td>\n",
       "      <td>0.332674</td>\n",
       "      <td>0.142397</td>\n",
       "      <td>1.000000</td>\n",
       "    </tr>\n",
       "  </tbody>\n",
       "</table>\n",
       "</div>"
      ],
      "text/plain": [
       "                        Rank      Year  Runtime (Minutes)    Rating     Votes  \\\n",
       "Rank                1.000000 -0.312809          -0.254783 -0.243125 -0.303284   \n",
       "Year               -0.312809  1.000000          -0.101933 -0.145703 -0.362445   \n",
       "Runtime (Minutes)  -0.254783 -0.101933           1.000000  0.374566  0.399298   \n",
       "Rating             -0.243125 -0.145703           0.374566  1.000000  0.517452   \n",
       "Votes              -0.303284 -0.362445           0.399298  0.517452  1.000000   \n",
       "Revenue (Millions) -0.273170 -0.129198           0.281721  0.217106  0.636833   \n",
       "Metascore          -0.195909 -0.062303           0.221397  0.672731  0.332674   \n",
       "\n",
       "                    Revenue (Millions)  Metascore  \n",
       "Rank                         -0.273170  -0.195909  \n",
       "Year                         -0.129198  -0.062303  \n",
       "Runtime (Minutes)             0.281721   0.221397  \n",
       "Rating                        0.217106   0.672731  \n",
       "Votes                         0.636833   0.332674  \n",
       "Revenue (Millions)            1.000000   0.142397  \n",
       "Metascore                     0.142397   1.000000  "
      ]
     },
     "execution_count": 10,
     "metadata": {},
     "output_type": "execute_result"
    }
   ],
   "source": [
    "data.corr()"
   ]
  },
  {
   "cell_type": "code",
   "execution_count": 11,
   "metadata": {},
   "outputs": [
    {
     "name": "stdout",
     "output_type": "stream",
     "text": [
      "<class 'pandas.core.frame.DataFrame'>\n",
      "RangeIndex: 838 entries, 0 to 837\n",
      "Data columns (total 12 columns):\n",
      " #   Column              Non-Null Count  Dtype  \n",
      "---  ------              --------------  -----  \n",
      " 0   Rank                838 non-null    int64  \n",
      " 1   Title               838 non-null    object \n",
      " 2   Genre               838 non-null    object \n",
      " 3   Description         838 non-null    object \n",
      " 4   Director            838 non-null    object \n",
      " 5   Actors              838 non-null    object \n",
      " 6   Year                838 non-null    int64  \n",
      " 7   Runtime (Minutes)   838 non-null    int64  \n",
      " 8   Rating              838 non-null    float64\n",
      " 9   Votes               838 non-null    int64  \n",
      " 10  Revenue (Millions)  838 non-null    float64\n",
      " 11  Metascore           838 non-null    float64\n",
      "dtypes: float64(3), int64(4), object(5)\n",
      "memory usage: 78.7+ KB\n"
     ]
    }
   ],
   "source": [
    "data.info()"
   ]
  },
  {
   "cell_type": "code",
   "execution_count": 12,
   "metadata": {},
   "outputs": [
    {
     "data": {
      "text/html": [
       "<div>\n",
       "<style scoped>\n",
       "    .dataframe tbody tr th:only-of-type {\n",
       "        vertical-align: middle;\n",
       "    }\n",
       "\n",
       "    .dataframe tbody tr th {\n",
       "        vertical-align: top;\n",
       "    }\n",
       "\n",
       "    .dataframe thead th {\n",
       "        text-align: right;\n",
       "    }\n",
       "</style>\n",
       "<table border=\"1\" class=\"dataframe\">\n",
       "  <thead>\n",
       "    <tr style=\"text-align: right;\">\n",
       "      <th></th>\n",
       "      <th>Rank</th>\n",
       "      <th>Year</th>\n",
       "      <th>Runtime (Minutes)</th>\n",
       "      <th>Rating</th>\n",
       "      <th>Votes</th>\n",
       "      <th>Revenue (Millions)</th>\n",
       "      <th>Metascore</th>\n",
       "    </tr>\n",
       "  </thead>\n",
       "  <tbody>\n",
       "    <tr>\n",
       "      <th>count</th>\n",
       "      <td>838.000000</td>\n",
       "      <td>838.00000</td>\n",
       "      <td>838.000000</td>\n",
       "      <td>838.000000</td>\n",
       "      <td>8.380000e+02</td>\n",
       "      <td>838.000000</td>\n",
       "      <td>838.000000</td>\n",
       "    </tr>\n",
       "    <tr>\n",
       "      <th>mean</th>\n",
       "      <td>485.247017</td>\n",
       "      <td>2012.50716</td>\n",
       "      <td>114.638425</td>\n",
       "      <td>6.814320</td>\n",
       "      <td>1.932303e+05</td>\n",
       "      <td>84.564558</td>\n",
       "      <td>59.575179</td>\n",
       "    </tr>\n",
       "    <tr>\n",
       "      <th>std</th>\n",
       "      <td>286.572065</td>\n",
       "      <td>3.17236</td>\n",
       "      <td>18.470922</td>\n",
       "      <td>0.877754</td>\n",
       "      <td>1.930990e+05</td>\n",
       "      <td>104.520227</td>\n",
       "      <td>16.952416</td>\n",
       "    </tr>\n",
       "    <tr>\n",
       "      <th>min</th>\n",
       "      <td>1.000000</td>\n",
       "      <td>2006.00000</td>\n",
       "      <td>66.000000</td>\n",
       "      <td>1.900000</td>\n",
       "      <td>1.780000e+02</td>\n",
       "      <td>0.000000</td>\n",
       "      <td>11.000000</td>\n",
       "    </tr>\n",
       "    <tr>\n",
       "      <th>25%</th>\n",
       "      <td>238.250000</td>\n",
       "      <td>2010.00000</td>\n",
       "      <td>101.000000</td>\n",
       "      <td>6.300000</td>\n",
       "      <td>6.127650e+04</td>\n",
       "      <td>13.967500</td>\n",
       "      <td>47.000000</td>\n",
       "    </tr>\n",
       "    <tr>\n",
       "      <th>50%</th>\n",
       "      <td>475.500000</td>\n",
       "      <td>2013.00000</td>\n",
       "      <td>112.000000</td>\n",
       "      <td>6.900000</td>\n",
       "      <td>1.368795e+05</td>\n",
       "      <td>48.150000</td>\n",
       "      <td>60.000000</td>\n",
       "    </tr>\n",
       "    <tr>\n",
       "      <th>75%</th>\n",
       "      <td>729.750000</td>\n",
       "      <td>2015.00000</td>\n",
       "      <td>124.000000</td>\n",
       "      <td>7.500000</td>\n",
       "      <td>2.710830e+05</td>\n",
       "      <td>116.800000</td>\n",
       "      <td>72.000000</td>\n",
       "    </tr>\n",
       "    <tr>\n",
       "      <th>max</th>\n",
       "      <td>1000.000000</td>\n",
       "      <td>2016.00000</td>\n",
       "      <td>187.000000</td>\n",
       "      <td>9.000000</td>\n",
       "      <td>1.791916e+06</td>\n",
       "      <td>936.630000</td>\n",
       "      <td>100.000000</td>\n",
       "    </tr>\n",
       "  </tbody>\n",
       "</table>\n",
       "</div>"
      ],
      "text/plain": [
       "              Rank        Year  Runtime (Minutes)      Rating         Votes  \\\n",
       "count   838.000000   838.00000         838.000000  838.000000  8.380000e+02   \n",
       "mean    485.247017  2012.50716         114.638425    6.814320  1.932303e+05   \n",
       "std     286.572065     3.17236          18.470922    0.877754  1.930990e+05   \n",
       "min       1.000000  2006.00000          66.000000    1.900000  1.780000e+02   \n",
       "25%     238.250000  2010.00000         101.000000    6.300000  6.127650e+04   \n",
       "50%     475.500000  2013.00000         112.000000    6.900000  1.368795e+05   \n",
       "75%     729.750000  2015.00000         124.000000    7.500000  2.710830e+05   \n",
       "max    1000.000000  2016.00000         187.000000    9.000000  1.791916e+06   \n",
       "\n",
       "       Revenue (Millions)   Metascore  \n",
       "count          838.000000  838.000000  \n",
       "mean            84.564558   59.575179  \n",
       "std            104.520227   16.952416  \n",
       "min              0.000000   11.000000  \n",
       "25%             13.967500   47.000000  \n",
       "50%             48.150000   60.000000  \n",
       "75%            116.800000   72.000000  \n",
       "max            936.630000  100.000000  "
      ]
     },
     "execution_count": 12,
     "metadata": {},
     "output_type": "execute_result"
    }
   ],
   "source": [
    "data.describe()"
   ]
  },
  {
   "cell_type": "code",
   "execution_count": 13,
   "metadata": {},
   "outputs": [
    {
     "data": {
      "image/png": "[encoded data removed]",
      "text/plain": [
       "<Figure size 1080x504 with 2 Axes>"
      ]
     },
     "metadata": {
      "needs_background": "light"
     },
     "output_type": "display_data"
    }
   ],
   "source": [
    "fig, ax = plt.subplots(figsize=(15,7))\n",
    "sns.heatmap(data=data.corr(), annot=True, cmap= \"rocket\") \n",
    "plt.title(\"Корреляция признаков\")\n",
    "plt.show()"
   ]
  },
  {
   "cell_type": "code",
   "execution_count": 15,
   "metadata": {},
   "outputs": [
    {
     "data": {
      "image/png": "[encoded data removed]",
      "text/plain": [
       "<Figure size 432x288 with 1 Axes>"
      ]
     },
     "metadata": {
      "needs_background": "light"
     },
     "output_type": "display_data"
    }
   ],
   "source": [
    "ax = sns.boxplot(data=data[['Rank']])"
   ]
  },
  {
   "cell_type": "code",
   "execution_count": 16,
   "metadata": {},
   "outputs": [
    {
     "data": {
      "image/png": "[encoded data removed]",
      "text/plain": [
       "<Figure size 432x288 with 1 Axes>"
      ]
     },
     "metadata": {
      "needs_background": "light"
     },
     "output_type": "display_data"
    }
   ],
   "source": [
    "ax = sns.boxplot(data=data[['Year']])"
   ]
  },
  {
   "cell_type": "code",
   "execution_count": 17,
   "metadata": {},
   "outputs": [
    {
     "data": {
      "image/png": "[encoded data removed]",
      "text/plain": [
       "<Figure size 432x288 with 1 Axes>"
      ]
     },
     "metadata": {
      "needs_background": "light"
     },
     "output_type": "display_data"
    }
   ],
   "source": [
    "ax = sns.boxplot(data=data[['Runtime (Minutes)']])"
   ]
  },
  {
   "cell_type": "code",
   "execution_count": 18,
   "metadata": {},
   "outputs": [
    {
     "data": {
      "image/png": "[encoded data removed]",
      "text/plain": [
       "<Figure size 432x288 with 1 Axes>"
      ]
     },
     "metadata": {
      "needs_background": "light"
     },
     "output_type": "display_data"
    }
   ],
   "source": [
    "ax = sns.boxplot(data=data[['Rating']])"
   ]
  },
  {
   "cell_type": "code",
   "execution_count": 19,
   "metadata": {},
   "outputs": [
    {
     "data": {
      "image/png": "[encoded data removed]",
      "text/plain": [
       "<Figure size 432x288 with 1 Axes>"
      ]
     },
     "metadata": {
      "needs_background": "light"
     },
     "output_type": "display_data"
    }
   ],
   "source": [
    "ax = sns.boxplot(data=data[['Votes']])"
   ]
  },
  {
   "cell_type": "code",
   "execution_count": 20,
   "metadata": {},
   "outputs": [
    {
     "data": {
      "image/png": "[encoded data removed]",
      "text/plain": [
       "<Figure size 432x288 with 1 Axes>"
      ]
     },
     "metadata": {
      "needs_background": "light"
     },
     "output_type": "display_data"
    }
   ],
   "source": [
    "ax = sns.boxplot(data=data[['Revenue (Millions)']])"
   ]
  },
  {
   "cell_type": "code",
   "execution_count": 21,
   "metadata": {},
   "outputs": [
    {
     "data": {
      "image/png": "[encoded data removed]",
      "text/plain": [
       "<Figure size 432x288 with 1 Axes>"
      ]
     },
     "metadata": {
      "needs_background": "light"
     },
     "output_type": "display_data"
    }
   ],
   "source": [
    "ax = sns.boxplot(data=data[['Metascore']])"
   ]
  },
  {
   "cell_type": "markdown",
   "metadata": {},
   "source": [
    "**Rating on the basis of Metascore, Votes and Runtime**"
   ]
  },
  {
   "cell_type": "code",
   "execution_count": 22,
   "metadata": {},
   "outputs": [
    {
     "data": {
      "text/html": [
       "<div>\n",
       "<style scoped>\n",
       "    .dataframe tbody tr th:only-of-type {\n",
       "        vertical-align: middle;\n",
       "    }\n",
       "\n",
       "    .dataframe tbody tr th {\n",
       "        vertical-align: top;\n",
       "    }\n",
       "\n",
       "    .dataframe thead tr th {\n",
       "        text-align: left;\n",
       "    }\n",
       "\n",
       "    .dataframe thead tr:last-of-type th {\n",
       "        text-align: right;\n",
       "    }\n",
       "</style>\n",
       "<table border=\"1\" class=\"dataframe\">\n",
       "  <thead>\n",
       "    <tr>\n",
       "      <th></th>\n",
       "      <th>Rank</th>\n",
       "      <th>Year</th>\n",
       "      <th>Runtime (Minutes)</th>\n",
       "      <th>Votes</th>\n",
       "      <th>Revenue (Millions)</th>\n",
       "      <th>Metascore</th>\n",
       "    </tr>\n",
       "    <tr>\n",
       "      <th></th>\n",
       "      <th>mean</th>\n",
       "      <th>mean</th>\n",
       "      <th>mean</th>\n",
       "      <th>mean</th>\n",
       "      <th>mean</th>\n",
       "      <th>mean</th>\n",
       "    </tr>\n",
       "    <tr>\n",
       "      <th>Rating</th>\n",
       "      <th></th>\n",
       "      <th></th>\n",
       "      <th></th>\n",
       "      <th></th>\n",
       "      <th></th>\n",
       "      <th></th>\n",
       "    </tr>\n",
       "  </thead>\n",
       "  <tbody>\n",
       "    <tr>\n",
       "      <th>1.9</th>\n",
       "      <td>830.000000</td>\n",
       "      <td>2008.000000</td>\n",
       "      <td>87.000000</td>\n",
       "      <td>7.720700e+04</td>\n",
       "      <td>14.170000</td>\n",
       "      <td>15.000000</td>\n",
       "    </tr>\n",
       "    <tr>\n",
       "      <th>2.7</th>\n",
       "      <td>872.000000</td>\n",
       "      <td>2009.000000</td>\n",
       "      <td>85.000000</td>\n",
       "      <td>5.951200e+04</td>\n",
       "      <td>9.350000</td>\n",
       "      <td>45.000000</td>\n",
       "    </tr>\n",
       "    <tr>\n",
       "      <th>3.9</th>\n",
       "      <td>382.000000</td>\n",
       "      <td>2016.000000</td>\n",
       "      <td>94.000000</td>\n",
       "      <td>2.723500e+03</td>\n",
       "      <td>47.730000</td>\n",
       "      <td>46.000000</td>\n",
       "    </tr>\n",
       "    <tr>\n",
       "      <th>4.0</th>\n",
       "      <td>617.000000</td>\n",
       "      <td>2016.000000</td>\n",
       "      <td>101.000000</td>\n",
       "      <td>2.770000e+02</td>\n",
       "      <td>20.760000</td>\n",
       "      <td>53.000000</td>\n",
       "    </tr>\n",
       "    <tr>\n",
       "      <th>4.1</th>\n",
       "      <td>64.000000</td>\n",
       "      <td>2015.000000</td>\n",
       "      <td>125.000000</td>\n",
       "      <td>2.444740e+05</td>\n",
       "      <td>166.150000</td>\n",
       "      <td>46.000000</td>\n",
       "    </tr>\n",
       "    <tr>\n",
       "      <th>4.3</th>\n",
       "      <td>671.666667</td>\n",
       "      <td>2012.666667</td>\n",
       "      <td>113.333333</td>\n",
       "      <td>8.929167e+04</td>\n",
       "      <td>53.423333</td>\n",
       "      <td>24.000000</td>\n",
       "    </tr>\n",
       "    <tr>\n",
       "      <th>4.4</th>\n",
       "      <td>937.000000</td>\n",
       "      <td>2009.000000</td>\n",
       "      <td>92.000000</td>\n",
       "      <td>6.065500e+04</td>\n",
       "      <td>0.180000</td>\n",
       "      <td>33.000000</td>\n",
       "    </tr>\n",
       "    <tr>\n",
       "      <th>4.6</th>\n",
       "      <td>672.000000</td>\n",
       "      <td>2015.500000</td>\n",
       "      <td>91.500000</td>\n",
       "      <td>2.086750e+04</td>\n",
       "      <td>19.580000</td>\n",
       "      <td>26.000000</td>\n",
       "    </tr>\n",
       "    <tr>\n",
       "      <th>4.7</th>\n",
       "      <td>370.333333</td>\n",
       "      <td>2013.000000</td>\n",
       "      <td>109.666667</td>\n",
       "      <td>4.924833e+04</td>\n",
       "      <td>31.230000</td>\n",
       "      <td>40.000000</td>\n",
       "    </tr>\n",
       "    <tr>\n",
       "      <th>4.8</th>\n",
       "      <td>971.000000</td>\n",
       "      <td>2013.000000</td>\n",
       "      <td>92.000000</td>\n",
       "      <td>3.706000e+04</td>\n",
       "      <td>34.330000</td>\n",
       "      <td>62.000000</td>\n",
       "    </tr>\n",
       "    <tr>\n",
       "      <th>4.9</th>\n",
       "      <td>652.500000</td>\n",
       "      <td>2013.500000</td>\n",
       "      <td>103.666667</td>\n",
       "      <td>1.016540e+05</td>\n",
       "      <td>129.038333</td>\n",
       "      <td>46.000000</td>\n",
       "    </tr>\n",
       "    <tr>\n",
       "      <th>5.0</th>\n",
       "      <td>513.000000</td>\n",
       "      <td>2008.000000</td>\n",
       "      <td>91.000000</td>\n",
       "      <td>1.708970e+05</td>\n",
       "      <td>64.510000</td>\n",
       "      <td>34.000000</td>\n",
       "    </tr>\n",
       "    <tr>\n",
       "      <th>5.1</th>\n",
       "      <td>607.600000</td>\n",
       "      <td>2014.000000</td>\n",
       "      <td>99.400000</td>\n",
       "      <td>4.501820e+04</td>\n",
       "      <td>16.560000</td>\n",
       "      <td>51.000000</td>\n",
       "    </tr>\n",
       "    <tr>\n",
       "      <th>5.2</th>\n",
       "      <td>499.666667</td>\n",
       "      <td>2010.833333</td>\n",
       "      <td>109.166667</td>\n",
       "      <td>1.395387e+05</td>\n",
       "      <td>80.751667</td>\n",
       "      <td>39.500000</td>\n",
       "    </tr>\n",
       "    <tr>\n",
       "      <th>5.3</th>\n",
       "      <td>450.375000</td>\n",
       "      <td>2014.625000</td>\n",
       "      <td>111.625000</td>\n",
       "      <td>8.861350e+04</td>\n",
       "      <td>55.533750</td>\n",
       "      <td>40.125000</td>\n",
       "    </tr>\n",
       "    <tr>\n",
       "      <th>5.4</th>\n",
       "      <td>543.200000</td>\n",
       "      <td>2014.100000</td>\n",
       "      <td>103.500000</td>\n",
       "      <td>5.327620e+04</td>\n",
       "      <td>44.991000</td>\n",
       "      <td>40.900000</td>\n",
       "    </tr>\n",
       "    <tr>\n",
       "      <th>5.5</th>\n",
       "      <td>623.000000</td>\n",
       "      <td>2010.454545</td>\n",
       "      <td>107.909091</td>\n",
       "      <td>9.723400e+04</td>\n",
       "      <td>79.561818</td>\n",
       "      <td>41.272727</td>\n",
       "    </tr>\n",
       "    <tr>\n",
       "      <th>5.6</th>\n",
       "      <td>601.846154</td>\n",
       "      <td>2012.692308</td>\n",
       "      <td>102.076923</td>\n",
       "      <td>7.064192e+04</td>\n",
       "      <td>36.773846</td>\n",
       "      <td>41.153846</td>\n",
       "    </tr>\n",
       "    <tr>\n",
       "      <th>5.7</th>\n",
       "      <td>472.937500</td>\n",
       "      <td>2014.062500</td>\n",
       "      <td>108.937500</td>\n",
       "      <td>5.467288e+04</td>\n",
       "      <td>41.857500</td>\n",
       "      <td>39.312500</td>\n",
       "    </tr>\n",
       "    <tr>\n",
       "      <th>5.8</th>\n",
       "      <td>430.095238</td>\n",
       "      <td>2013.190476</td>\n",
       "      <td>108.666667</td>\n",
       "      <td>9.528057e+04</td>\n",
       "      <td>57.868095</td>\n",
       "      <td>43.904762</td>\n",
       "    </tr>\n",
       "    <tr>\n",
       "      <th>5.9</th>\n",
       "      <td>674.200000</td>\n",
       "      <td>2013.200000</td>\n",
       "      <td>109.400000</td>\n",
       "      <td>8.770620e+04</td>\n",
       "      <td>53.689333</td>\n",
       "      <td>42.866667</td>\n",
       "    </tr>\n",
       "    <tr>\n",
       "      <th>6.0</th>\n",
       "      <td>481.650000</td>\n",
       "      <td>2013.800000</td>\n",
       "      <td>109.700000</td>\n",
       "      <td>1.027755e+05</td>\n",
       "      <td>78.717000</td>\n",
       "      <td>42.800000</td>\n",
       "    </tr>\n",
       "    <tr>\n",
       "      <th>6.1</th>\n",
       "      <td>560.636364</td>\n",
       "      <td>2013.000000</td>\n",
       "      <td>108.590909</td>\n",
       "      <td>1.113839e+05</td>\n",
       "      <td>64.024091</td>\n",
       "      <td>48.045455</td>\n",
       "    </tr>\n",
       "    <tr>\n",
       "      <th>6.2</th>\n",
       "      <td>606.818182</td>\n",
       "      <td>2012.787879</td>\n",
       "      <td>108.030303</td>\n",
       "      <td>1.138571e+05</td>\n",
       "      <td>80.235152</td>\n",
       "      <td>52.272727</td>\n",
       "    </tr>\n",
       "    <tr>\n",
       "      <th>6.3</th>\n",
       "      <td>511.361111</td>\n",
       "      <td>2014.361111</td>\n",
       "      <td>109.277778</td>\n",
       "      <td>9.307214e+04</td>\n",
       "      <td>55.295833</td>\n",
       "      <td>48.527778</td>\n",
       "    </tr>\n",
       "    <tr>\n",
       "      <th>6.4</th>\n",
       "      <td>539.500000</td>\n",
       "      <td>2012.100000</td>\n",
       "      <td>104.466667</td>\n",
       "      <td>1.343861e+05</td>\n",
       "      <td>74.114000</td>\n",
       "      <td>56.566667</td>\n",
       "    </tr>\n",
       "    <tr>\n",
       "      <th>6.5</th>\n",
       "      <td>562.828571</td>\n",
       "      <td>2013.057143</td>\n",
       "      <td>110.085714</td>\n",
       "      <td>1.080293e+05</td>\n",
       "      <td>62.546286</td>\n",
       "      <td>50.742857</td>\n",
       "    </tr>\n",
       "    <tr>\n",
       "      <th>6.6</th>\n",
       "      <td>615.756757</td>\n",
       "      <td>2011.648649</td>\n",
       "      <td>110.972973</td>\n",
       "      <td>1.558475e+05</td>\n",
       "      <td>75.934324</td>\n",
       "      <td>53.081081</td>\n",
       "    </tr>\n",
       "    <tr>\n",
       "      <th>6.7</th>\n",
       "      <td>492.857143</td>\n",
       "      <td>2012.738095</td>\n",
       "      <td>114.690476</td>\n",
       "      <td>1.638115e+05</td>\n",
       "      <td>88.254524</td>\n",
       "      <td>55.928571</td>\n",
       "    </tr>\n",
       "    <tr>\n",
       "      <th>6.8</th>\n",
       "      <td>584.606061</td>\n",
       "      <td>2012.424242</td>\n",
       "      <td>109.818182</td>\n",
       "      <td>1.402808e+05</td>\n",
       "      <td>57.301212</td>\n",
       "      <td>60.030303</td>\n",
       "    </tr>\n",
       "    <tr>\n",
       "      <th>6.9</th>\n",
       "      <td>585.260870</td>\n",
       "      <td>2012.478261</td>\n",
       "      <td>110.347826</td>\n",
       "      <td>1.545635e+05</td>\n",
       "      <td>58.814348</td>\n",
       "      <td>59.130435</td>\n",
       "    </tr>\n",
       "    <tr>\n",
       "      <th>7.0</th>\n",
       "      <td>420.860465</td>\n",
       "      <td>2012.372093</td>\n",
       "      <td>115.232558</td>\n",
       "      <td>2.305948e+05</td>\n",
       "      <td>93.951860</td>\n",
       "      <td>63.279070</td>\n",
       "    </tr>\n",
       "    <tr>\n",
       "      <th>7.1</th>\n",
       "      <td>460.150000</td>\n",
       "      <td>2012.750000</td>\n",
       "      <td>117.600000</td>\n",
       "      <td>1.744398e+05</td>\n",
       "      <td>80.296000</td>\n",
       "      <td>66.825000</td>\n",
       "    </tr>\n",
       "    <tr>\n",
       "      <th>7.2</th>\n",
       "      <td>469.868421</td>\n",
       "      <td>2012.421053</td>\n",
       "      <td>114.105263</td>\n",
       "      <td>1.898841e+05</td>\n",
       "      <td>88.932105</td>\n",
       "      <td>66.157895</td>\n",
       "    </tr>\n",
       "    <tr>\n",
       "      <th>7.3</th>\n",
       "      <td>448.918919</td>\n",
       "      <td>2012.270270</td>\n",
       "      <td>119.567568</td>\n",
       "      <td>1.844122e+05</td>\n",
       "      <td>79.008108</td>\n",
       "      <td>65.000000</td>\n",
       "    </tr>\n",
       "    <tr>\n",
       "      <th>7.4</th>\n",
       "      <td>406.724138</td>\n",
       "      <td>2013.379310</td>\n",
       "      <td>121.517241</td>\n",
       "      <td>1.987592e+05</td>\n",
       "      <td>107.773103</td>\n",
       "      <td>67.172414</td>\n",
       "    </tr>\n",
       "    <tr>\n",
       "      <th>7.5</th>\n",
       "      <td>447.424242</td>\n",
       "      <td>2012.424242</td>\n",
       "      <td>122.151515</td>\n",
       "      <td>1.789925e+05</td>\n",
       "      <td>87.075152</td>\n",
       "      <td>70.878788</td>\n",
       "    </tr>\n",
       "    <tr>\n",
       "      <th>7.6</th>\n",
       "      <td>481.692308</td>\n",
       "      <td>2011.384615</td>\n",
       "      <td>121.884615</td>\n",
       "      <td>2.699010e+05</td>\n",
       "      <td>103.405385</td>\n",
       "      <td>75.769231</td>\n",
       "    </tr>\n",
       "    <tr>\n",
       "      <th>7.7</th>\n",
       "      <td>426.920000</td>\n",
       "      <td>2010.760000</td>\n",
       "      <td>113.600000</td>\n",
       "      <td>2.960303e+05</td>\n",
       "      <td>90.320800</td>\n",
       "      <td>70.280000</td>\n",
       "    </tr>\n",
       "    <tr>\n",
       "      <th>7.8</th>\n",
       "      <td>451.368421</td>\n",
       "      <td>2011.447368</td>\n",
       "      <td>123.894737</td>\n",
       "      <td>3.287439e+05</td>\n",
       "      <td>124.632632</td>\n",
       "      <td>73.078947</td>\n",
       "    </tr>\n",
       "    <tr>\n",
       "      <th>7.9</th>\n",
       "      <td>365.300000</td>\n",
       "      <td>2012.400000</td>\n",
       "      <td>125.800000</td>\n",
       "      <td>3.203829e+05</td>\n",
       "      <td>131.075500</td>\n",
       "      <td>75.650000</td>\n",
       "    </tr>\n",
       "    <tr>\n",
       "      <th>8.0</th>\n",
       "      <td>291.684211</td>\n",
       "      <td>2011.421053</td>\n",
       "      <td>122.684211</td>\n",
       "      <td>4.436814e+05</td>\n",
       "      <td>133.713684</td>\n",
       "      <td>79.000000</td>\n",
       "    </tr>\n",
       "    <tr>\n",
       "      <th>8.1</th>\n",
       "      <td>213.500000</td>\n",
       "      <td>2012.416667</td>\n",
       "      <td>129.416667</td>\n",
       "      <td>4.690250e+05</td>\n",
       "      <td>175.485833</td>\n",
       "      <td>79.291667</td>\n",
       "    </tr>\n",
       "    <tr>\n",
       "      <th>8.2</th>\n",
       "      <td>348.333333</td>\n",
       "      <td>2012.111111</td>\n",
       "      <td>133.666667</td>\n",
       "      <td>3.236647e+05</td>\n",
       "      <td>71.554444</td>\n",
       "      <td>78.444444</td>\n",
       "    </tr>\n",
       "    <tr>\n",
       "      <th>8.3</th>\n",
       "      <td>346.000000</td>\n",
       "      <td>2011.200000</td>\n",
       "      <td>119.000000</td>\n",
       "      <td>5.437764e+05</td>\n",
       "      <td>196.030000</td>\n",
       "      <td>83.600000</td>\n",
       "    </tr>\n",
       "    <tr>\n",
       "      <th>8.4</th>\n",
       "      <td>288.000000</td>\n",
       "      <td>2010.500000</td>\n",
       "      <td>167.500000</td>\n",
       "      <td>6.389520e+05</td>\n",
       "      <td>84.660000</td>\n",
       "      <td>74.000000</td>\n",
       "    </tr>\n",
       "    <tr>\n",
       "      <th>8.5</th>\n",
       "      <td>315.500000</td>\n",
       "      <td>2008.500000</td>\n",
       "      <td>142.333333</td>\n",
       "      <td>6.552145e+05</td>\n",
       "      <td>109.858333</td>\n",
       "      <td>74.666667</td>\n",
       "    </tr>\n",
       "    <tr>\n",
       "      <th>8.6</th>\n",
       "      <td>128.000000</td>\n",
       "      <td>2013.666667</td>\n",
       "      <td>129.000000</td>\n",
       "      <td>5.466073e+05</td>\n",
       "      <td>68.616667</td>\n",
       "      <td>70.000000</td>\n",
       "    </tr>\n",
       "    <tr>\n",
       "      <th>8.8</th>\n",
       "      <td>81.000000</td>\n",
       "      <td>2010.000000</td>\n",
       "      <td>148.000000</td>\n",
       "      <td>1.583625e+06</td>\n",
       "      <td>292.570000</td>\n",
       "      <td>74.000000</td>\n",
       "    </tr>\n",
       "    <tr>\n",
       "      <th>9.0</th>\n",
       "      <td>55.000000</td>\n",
       "      <td>2008.000000</td>\n",
       "      <td>152.000000</td>\n",
       "      <td>1.791916e+06</td>\n",
       "      <td>533.320000</td>\n",
       "      <td>82.000000</td>\n",
       "    </tr>\n",
       "  </tbody>\n",
       "</table>\n",
       "</div>"
      ],
      "text/plain": [
       "              Rank         Year Runtime (Minutes)         Votes  \\\n",
       "              mean         mean              mean          mean   \n",
       "Rating                                                            \n",
       "1.9     830.000000  2008.000000         87.000000  7.720700e+04   \n",
       "2.7     872.000000  2009.000000         85.000000  5.951200e+04   \n",
       "3.9     382.000000  2016.000000         94.000000  2.723500e+03   \n",
       "4.0     617.000000  2016.000000        101.000000  2.770000e+02   \n",
       "4.1      64.000000  2015.000000        125.000000  2.444740e+05   \n",
       "4.3     671.666667  2012.666667        113.333333  8.929167e+04   \n",
       "4.4     937.000000  2009.000000         92.000000  6.065500e+04   \n",
       "4.6     672.000000  2015.500000         91.500000  2.086750e+04   \n",
       "4.7     370.333333  2013.000000        109.666667  4.924833e+04   \n",
       "4.8     971.000000  2013.000000         92.000000  3.706000e+04   \n",
       "4.9     652.500000  2013.500000        103.666667  1.016540e+05   \n",
       "5.0     513.000000  2008.000000         91.000000  1.708970e+05   \n",
       "5.1     607.600000  2014.000000         99.400000  4.501820e+04   \n",
       "5.2     499.666667  2010.833333        109.166667  1.395387e+05   \n",
       "5.3     450.375000  2014.625000        111.625000  8.861350e+04   \n",
       "5.4     543.200000  2014.100000        103.500000  5.327620e+04   \n",
       "5.5     623.000000  2010.454545        107.909091  9.723400e+04   \n",
       "5.6     601.846154  2012.692308        102.076923  7.064192e+04   \n",
       "5.7     472.937500  2014.062500        108.937500  5.467288e+04   \n",
       "5.8     430.095238  2013.190476        108.666667  9.528057e+04   \n",
       "5.9     674.200000  2013.200000        109.400000  8.770620e+04   \n",
       "6.0     481.650000  2013.800000        109.700000  1.027755e+05   \n",
       "6.1     560.636364  2013.000000        108.590909  1.113839e+05   \n",
       "6.2     606.818182  2012.787879        108.030303  1.138571e+05   \n",
       "6.3     511.361111  2014.361111        109.277778  9.307214e+04   \n",
       "6.4     539.500000  2012.100000        104.466667  1.343861e+05   \n",
       "6.5     562.828571  2013.057143        110.085714  1.080293e+05   \n",
       "6.6     615.756757  2011.648649        110.972973  1.558475e+05   \n",
       "6.7     492.857143  2012.738095        114.690476  1.638115e+05   \n",
       "6.8     584.606061  2012.424242        109.818182  1.402808e+05   \n",
       "6.9     585.260870  2012.478261        110.347826  1.545635e+05   \n",
       "7.0     420.860465  2012.372093        115.232558  2.305948e+05   \n",
       "7.1     460.150000  2012.750000        117.600000  1.744398e+05   \n",
       "7.2     469.868421  2012.421053        114.105263  1.898841e+05   \n",
       "7.3     448.918919  2012.270270        119.567568  1.844122e+05   \n",
       "7.4     406.724138  2013.379310        121.517241  1.987592e+05   \n",
       "7.5     447.424242  2012.424242        122.151515  1.789925e+05   \n",
       "7.6     481.692308  2011.384615        121.884615  2.699010e+05   \n",
       "7.7     426.920000  2010.760000        113.600000  2.960303e+05   \n",
       "7.8     451.368421  2011.447368        123.894737  3.287439e+05   \n",
       "7.9     365.300000  2012.400000        125.800000  3.203829e+05   \n",
       "8.0     291.684211  2011.421053        122.684211  4.436814e+05   \n",
       "8.1     213.500000  2012.416667        129.416667  4.690250e+05   \n",
       "8.2     348.333333  2012.111111        133.666667  3.236647e+05   \n",
       "8.3     346.000000  2011.200000        119.000000  5.437764e+05   \n",
       "8.4     288.000000  2010.500000        167.500000  6.389520e+05   \n",
       "8.5     315.500000  2008.500000        142.333333  6.552145e+05   \n",
       "8.6     128.000000  2013.666667        129.000000  5.466073e+05   \n",
       "8.8      81.000000  2010.000000        148.000000  1.583625e+06   \n",
       "9.0      55.000000  2008.000000        152.000000  1.791916e+06   \n",
       "\n",
       "       Revenue (Millions)  Metascore  \n",
       "                     mean       mean  \n",
       "Rating                                \n",
       "1.9             14.170000  15.000000  \n",
       "2.7              9.350000  45.000000  \n",
       "3.9             47.730000  46.000000  \n",
       "4.0             20.760000  53.000000  \n",
       "4.1            166.150000  46.000000  \n",
       "4.3             53.423333  24.000000  \n",
       "4.4              0.180000  33.000000  \n",
       "4.6             19.580000  26.000000  \n",
       "4.7             31.230000  40.000000  \n",
       "4.8             34.330000  62.000000  \n",
       "4.9            129.038333  46.000000  \n",
       "5.0             64.510000  34.000000  \n",
       "5.1             16.560000  51.000000  \n",
       "5.2             80.751667  39.500000  \n",
       "5.3             55.533750  40.125000  \n",
       "5.4             44.991000  40.900000  \n",
       "5.5             79.561818  41.272727  \n",
       "5.6             36.773846  41.153846  \n",
       "5.7             41.857500  39.312500  \n",
       "5.8             57.868095  43.904762  \n",
       "5.9             53.689333  42.866667  \n",
       "6.0             78.717000  42.800000  \n",
       "6.1             64.024091  48.045455  \n",
       "6.2             80.235152  52.272727  \n",
       "6.3             55.295833  48.527778  \n",
       "6.4             74.114000  56.566667  \n",
       "6.5             62.546286  50.742857  \n",
       "6.6             75.934324  53.081081  \n",
       "6.7             88.254524  55.928571  \n",
       "6.8             57.301212  60.030303  \n",
       "6.9             58.814348  59.130435  \n",
       "7.0             93.951860  63.279070  \n",
       "7.1             80.296000  66.825000  \n",
       "7.2             88.932105  66.157895  \n",
       "7.3             79.008108  65.000000  \n",
       "7.4            107.773103  67.172414  \n",
       "7.5             87.075152  70.878788  \n",
       "7.6            103.405385  75.769231  \n",
       "7.7             90.320800  70.280000  \n",
       "7.8            124.632632  73.078947  \n",
       "7.9            131.075500  75.650000  \n",
       "8.0            133.713684  79.000000  \n",
       "8.1            175.485833  79.291667  \n",
       "8.2             71.554444  78.444444  \n",
       "8.3            196.030000  83.600000  \n",
       "8.4             84.660000  74.000000  \n",
       "8.5            109.858333  74.666667  \n",
       "8.6             68.616667  70.000000  \n",
       "8.8            292.570000  74.000000  \n",
       "9.0            533.320000  82.000000  "
      ]
     },
     "execution_count": 22,
     "metadata": {},
     "output_type": "execute_result"
    }
   ],
   "source": [
    "data.groupby('Rating').agg(['mean'])"
   ]
  },
  {
   "cell_type": "markdown",
   "metadata": {},
   "source": [
    "**Regression plots**"
   ]
  },
  {
   "cell_type": "code",
   "execution_count": 23,
   "metadata": {},
   "outputs": [
    {
     "data": {
      "text/plain": [
       "<seaborn.axisgrid.FacetGrid at 0x17d93f22cd0>"
      ]
     },
     "execution_count": 23,
     "metadata": {},
     "output_type": "execute_result"
    },
    {
     "data": {
      "image/png": "[encoded data removed]",
      "text/plain": [
       "<Figure size 360x360 with 1 Axes>"
      ]
     },
     "metadata": {
      "needs_background": "light"
     },
     "output_type": "display_data"
    }
   ],
   "source": [
    "sns.lmplot(x ='Rating', y='Metascore', data = data)"
   ]
  },
  {
   "cell_type": "code",
   "execution_count": 24,
   "metadata": {},
   "outputs": [
    {
     "data": {
      "text/plain": [
       "<seaborn.axisgrid.FacetGrid at 0x17d93f91340>"
      ]
     },
     "execution_count": 24,
     "metadata": {},
     "output_type": "execute_result"
    },
    {
     "data": {
      "image/png": "[encoded data removed]",
      "text/plain": [
       "<Figure size 360x360 with 1 Axes>"
      ]
     },
     "metadata": {
      "needs_background": "light"
     },
     "output_type": "display_data"
    }
   ],
   "source": [
    "sns.lmplot(x ='Rating', y='Votes', data = data)"
   ]
  },
  {
   "cell_type": "code",
   "execution_count": 25,
   "metadata": {},
   "outputs": [
    {
     "data": {
      "text/plain": [
       "<seaborn.axisgrid.FacetGrid at 0x17d93ff10a0>"
      ]
     },
     "execution_count": 25,
     "metadata": {},
     "output_type": "execute_result"
    },
    {
     "data": {
      "image/png": "[encoded data removed]",
      "text/plain": [
       "<Figure size 360x360 with 1 Axes>"
      ]
     },
     "metadata": {
      "needs_background": "light"
     },
     "output_type": "display_data"
    }
   ],
   "source": [
    "sns.lmplot(x ='Rating', y='Runtime (Minutes)', data = data)"
   ]
  },
  {
   "cell_type": "code",
   "execution_count": 117,
   "metadata": {},
   "outputs": [],
   "source": [
    "data1 = data[['Rating', 'Metascore', 'Votes', 'Runtime (Minutes)']].copy(deep = 'True')"
   ]
  },
  {
   "cell_type": "code",
   "execution_count": 118,
   "metadata": {},
   "outputs": [
    {
     "data": {
      "text/html": [
       "<div>\n",
       "<style scoped>\n",
       "    .dataframe tbody tr th:only-of-type {\n",
       "        vertical-align: middle;\n",
       "    }\n",
       "\n",
       "    .dataframe tbody tr th {\n",
       "        vertical-align: top;\n",
       "    }\n",
       "\n",
       "    .dataframe thead th {\n",
       "        text-align: right;\n",
       "    }\n",
       "</style>\n",
       "<table border=\"1\" class=\"dataframe\">\n",
       "  <thead>\n",
       "    <tr style=\"text-align: right;\">\n",
       "      <th></th>\n",
       "      <th>Rating</th>\n",
       "      <th>Metascore</th>\n",
       "      <th>Votes</th>\n",
       "      <th>Runtime (Minutes)</th>\n",
       "    </tr>\n",
       "  </thead>\n",
       "  <tbody>\n",
       "    <tr>\n",
       "      <th>0</th>\n",
       "      <td>8.1</td>\n",
       "      <td>76.0</td>\n",
       "      <td>757074</td>\n",
       "      <td>121</td>\n",
       "    </tr>\n",
       "    <tr>\n",
       "      <th>1</th>\n",
       "      <td>7.0</td>\n",
       "      <td>65.0</td>\n",
       "      <td>485820</td>\n",
       "      <td>124</td>\n",
       "    </tr>\n",
       "    <tr>\n",
       "      <th>2</th>\n",
       "      <td>7.3</td>\n",
       "      <td>62.0</td>\n",
       "      <td>157606</td>\n",
       "      <td>117</td>\n",
       "    </tr>\n",
       "    <tr>\n",
       "      <th>3</th>\n",
       "      <td>7.2</td>\n",
       "      <td>59.0</td>\n",
       "      <td>60545</td>\n",
       "      <td>108</td>\n",
       "    </tr>\n",
       "    <tr>\n",
       "      <th>4</th>\n",
       "      <td>6.2</td>\n",
       "      <td>40.0</td>\n",
       "      <td>393727</td>\n",
       "      <td>123</td>\n",
       "    </tr>\n",
       "    <tr>\n",
       "      <th>...</th>\n",
       "      <td>...</td>\n",
       "      <td>...</td>\n",
       "      <td>...</td>\n",
       "      <td>...</td>\n",
       "    </tr>\n",
       "    <tr>\n",
       "      <th>833</th>\n",
       "      <td>5.9</td>\n",
       "      <td>37.0</td>\n",
       "      <td>140900</td>\n",
       "      <td>97</td>\n",
       "    </tr>\n",
       "    <tr>\n",
       "      <th>834</th>\n",
       "      <td>6.7</td>\n",
       "      <td>48.0</td>\n",
       "      <td>164088</td>\n",
       "      <td>88</td>\n",
       "    </tr>\n",
       "    <tr>\n",
       "      <th>835</th>\n",
       "      <td>5.5</td>\n",
       "      <td>46.0</td>\n",
       "      <td>73152</td>\n",
       "      <td>94</td>\n",
       "    </tr>\n",
       "    <tr>\n",
       "      <th>836</th>\n",
       "      <td>6.2</td>\n",
       "      <td>50.0</td>\n",
       "      <td>70699</td>\n",
       "      <td>98</td>\n",
       "    </tr>\n",
       "    <tr>\n",
       "      <th>837</th>\n",
       "      <td>5.3</td>\n",
       "      <td>11.0</td>\n",
       "      <td>12435</td>\n",
       "      <td>87</td>\n",
       "    </tr>\n",
       "  </tbody>\n",
       "</table>\n",
       "<p>838 rows × 4 columns</p>\n",
       "</div>"
      ],
      "text/plain": [
       "     Rating  Metascore   Votes  Runtime (Minutes)\n",
       "0       8.1       76.0  757074                121\n",
       "1       7.0       65.0  485820                124\n",
       "2       7.3       62.0  157606                117\n",
       "3       7.2       59.0   60545                108\n",
       "4       6.2       40.0  393727                123\n",
       "..      ...        ...     ...                ...\n",
       "833     5.9       37.0  140900                 97\n",
       "834     6.7       48.0  164088                 88\n",
       "835     5.5       46.0   73152                 94\n",
       "836     6.2       50.0   70699                 98\n",
       "837     5.3       11.0   12435                 87\n",
       "\n",
       "[838 rows x 4 columns]"
      ]
     },
     "execution_count": 118,
     "metadata": {},
     "output_type": "execute_result"
    }
   ],
   "source": [
    "data1"
   ]
  },
  {
   "cell_type": "markdown",
   "metadata": {},
   "source": [
    "**Data distribution**"
   ]
  },
  {
   "cell_type": "code",
   "execution_count": 119,
   "metadata": {},
   "outputs": [
    {
     "data": {
      "image/png": "[encoded data removed]",
      "text/plain": [
       "<Figure size 432x288 with 1 Axes>"
      ]
     },
     "metadata": {
      "needs_background": "light"
     },
     "output_type": "display_data"
    },
    {
     "data": {
      "image/png": "[encoded data removed]",
      "text/plain": [
       "<Figure size 432x288 with 1 Axes>"
      ]
     },
     "metadata": {
      "needs_background": "light"
     },
     "output_type": "display_data"
    },
    {
     "data": {
      "image/png": "[encoded data removed]",
      "text/plain": [
       "<Figure size 432x288 with 1 Axes>"
      ]
     },
     "metadata": {
      "needs_background": "light"
     },
     "output_type": "display_data"
    },
    {
     "data": {
      "image/png": "[encoded data removed]",
      "text/plain": [
       "<Figure size 432x288 with 1 Axes>"
      ]
     },
     "metadata": {
      "needs_background": "light"
     },
     "output_type": "display_data"
    }
   ],
   "source": [
    "for column in data1.columns:\n",
    "    plt.figure()           \n",
    "    sns.histplot(data1[column], bins=10, kde=True)"
   ]
  },
  {
   "cell_type": "markdown",
   "metadata": {},
   "source": [
    "**Train / test set splitting**"
   ]
  },
  {
   "cell_type": "code",
   "execution_count": 149,
   "metadata": {},
   "outputs": [],
   "source": [
    "X = data1.drop(['Rating'], axis=1)\n",
    "y = data1['Rating']"
   ]
  },
  {
   "cell_type": "code",
   "execution_count": 150,
   "metadata": {},
   "outputs": [],
   "source": [
    "X_train, X_test, y_train, y_test = train_test_split(X, y, test_size = 0.25, random_state=42)"
   ]
  },
  {
   "cell_type": "markdown",
   "metadata": {},
   "source": [
    "**Functions to see metrics**"
   ]
  },
  {
   "cell_type": "code",
   "execution_count": 151,
   "metadata": {},
   "outputs": [],
   "source": [
    "def val(model, data):\n",
    "    pred = cross_val_score(model, X, y)\n",
    "    coef = list(zip(data.columns, model.coef_))\n",
    "    return pred.mean(), coef\n",
    "\n",
    "def print_val(model, data):\n",
    "    pred = cross_val_score(model, X, y)\n",
    "    coef = list(zip(data.columns, model.coef_))\n",
    "    print('cross_val:', pred.mean())\n",
    "    print('coef:', coef) \n",
    "    \n",
    "def evaluate(true, predicted):\n",
    "    mae = metrics.mean_absolute_error(true, predicted)\n",
    "    mse = metrics.mean_squared_error(true, predicted)\n",
    "    rmse = np.sqrt(metrics.mean_squared_error(true, predicted))\n",
    "    r2_square = metrics.r2_score(true, predicted)\n",
    "    return mae, mse, rmse, r2_square\n",
    "\n",
    "def print_evaluate(true, predicted):  \n",
    "    mae = metrics.mean_absolute_error(true, predicted)\n",
    "    mse = metrics.mean_squared_error(true, predicted)\n",
    "    rmse = np.sqrt(metrics.mean_squared_error(true, predicted))\n",
    "    r2_square = metrics.r2_score(true, predicted)\n",
    "    print('MAE:', mae)\n",
    "    print('MSE:', mse)\n",
    "    print('RMSE:', rmse)\n",
    "    print('R2 Square:', r2_square)"
   ]
  },
  {
   "cell_type": "markdown",
   "metadata": {},
   "source": [
    "**Linear Regression**"
   ]
  },
  {
   "cell_type": "code",
   "execution_count": 152,
   "metadata": {},
   "outputs": [],
   "source": [
    "lr=LinearRegression(normalize=True)\n",
    "lr.fit(X_train, y_train)\n",
    "train_pred = lr.predict(X_train)\n",
    "test_pred = lr.predict(X_test)"
   ]
  },
  {
   "cell_type": "code",
   "execution_count": 153,
   "metadata": {},
   "outputs": [
    {
     "name": "stdout",
     "output_type": "stream",
     "text": [
      "cross_val: 0.524891350688171\n",
      "coef: [('Rating', 0.0273544923644187), ('Metascore', 1.2653533641150347e-06), ('Votes', 0.005616527216799001)]\n"
     ]
    }
   ],
   "source": [
    "print_val(lr, data1)"
   ]
  },
  {
   "cell_type": "code",
   "execution_count": 154,
   "metadata": {},
   "outputs": [
    {
     "name": "stdout",
     "output_type": "stream",
     "text": [
      "\n",
      "Train set evaluation:\n",
      "\n",
      "MAE: 0.4254861405889546\n",
      "MSE: 0.3252025979068637\n",
      "RMSE: 0.570265374985071\n",
      "R2 Square: 0.5487595498579707\n",
      "\n",
      "Test set evaluation:\n",
      "\n",
      "MAE: 0.40151970667890763\n",
      "MSE: 0.36362689587083913\n",
      "RMSE: 0.6030148388479666\n",
      "R2 Square: 0.6027382783639778\n"
     ]
    }
   ],
   "source": [
    "print('\\nTrain set evaluation:\\n')\n",
    "print_evaluate(y_train, train_pred)\n",
    "\n",
    "print('\\nTest set evaluation:\\n')\n",
    "print_evaluate(y_test, test_pred)"
   ]
  },
  {
   "cell_type": "code",
   "execution_count": 155,
   "metadata": {},
   "outputs": [
    {
     "data": {
      "text/html": [
       "<div>\n",
       "<style scoped>\n",
       "    .dataframe tbody tr th:only-of-type {\n",
       "        vertical-align: middle;\n",
       "    }\n",
       "\n",
       "    .dataframe tbody tr th {\n",
       "        vertical-align: top;\n",
       "    }\n",
       "\n",
       "    .dataframe thead th {\n",
       "        text-align: right;\n",
       "    }\n",
       "</style>\n",
       "<table border=\"1\" class=\"dataframe\">\n",
       "  <thead>\n",
       "    <tr style=\"text-align: right;\">\n",
       "      <th></th>\n",
       "      <th>Model</th>\n",
       "      <th>MAE</th>\n",
       "      <th>MSE</th>\n",
       "      <th>RMSE</th>\n",
       "      <th>R2 Square</th>\n",
       "      <th>Cross Validation</th>\n",
       "      <th>Coef</th>\n",
       "    </tr>\n",
       "  </thead>\n",
       "  <tbody>\n",
       "    <tr>\n",
       "      <th>0</th>\n",
       "      <td>Linear Regression</td>\n",
       "      <td>0.40152</td>\n",
       "      <td>0.363627</td>\n",
       "      <td>0.603015</td>\n",
       "      <td>0.602738</td>\n",
       "      <td>0.524891</td>\n",
       "      <td>[(Rating, 0.0273544923644187), (Metascore, 1.2...</td>\n",
       "    </tr>\n",
       "  </tbody>\n",
       "</table>\n",
       "</div>"
      ],
      "text/plain": [
       "               Model      MAE       MSE      RMSE  R2 Square  \\\n",
       "0  Linear Regression  0.40152  0.363627  0.603015   0.602738   \n",
       "\n",
       "   Cross Validation                                               Coef  \n",
       "0          0.524891  [(Rating, 0.0273544923644187), (Metascore, 1.2...  "
      ]
     },
     "execution_count": 155,
     "metadata": {},
     "output_type": "execute_result"
    }
   ],
   "source": [
    "results_df_len = pd.DataFrame(data=[[\"Linear Regression\", *evaluate(y_test, test_pred) , *val(lr, data1)]], \n",
    "                          columns=['Model', 'MAE', 'MSE', 'RMSE', 'R2 Square', \"Cross Validation\", \"Coef\"])\n",
    "results_df_len"
   ]
  },
  {
   "cell_type": "code",
   "execution_count": 156,
   "metadata": {},
   "outputs": [],
   "source": [
    "# Введем новые данные и посмотрим, насколько точным получится предсказанное значение."
   ]
  },
  {
   "cell_type": "code",
   "execution_count": 157,
   "metadata": {},
   "outputs": [
    {
     "data": {
      "text/html": [
       "<div>\n",
       "<style scoped>\n",
       "    .dataframe tbody tr th:only-of-type {\n",
       "        vertical-align: middle;\n",
       "    }\n",
       "\n",
       "    .dataframe tbody tr th {\n",
       "        vertical-align: top;\n",
       "    }\n",
       "\n",
       "    .dataframe thead th {\n",
       "        text-align: right;\n",
       "    }\n",
       "</style>\n",
       "<table border=\"1\" class=\"dataframe\">\n",
       "  <thead>\n",
       "    <tr style=\"text-align: right;\">\n",
       "      <th></th>\n",
       "      <th>Rank</th>\n",
       "      <th>Title</th>\n",
       "      <th>Genre</th>\n",
       "      <th>Description</th>\n",
       "      <th>Director</th>\n",
       "      <th>Actors</th>\n",
       "      <th>Year</th>\n",
       "      <th>Runtime (Minutes)</th>\n",
       "      <th>Rating</th>\n",
       "      <th>Votes</th>\n",
       "      <th>Revenue (Millions)</th>\n",
       "      <th>Metascore</th>\n",
       "    </tr>\n",
       "  </thead>\n",
       "  <tbody>\n",
       "  </tbody>\n",
       "</table>\n",
       "</div>"
      ],
      "text/plain": [
       "Empty DataFrame\n",
       "Columns: [Rank, Title, Genre, Description, Director, Actors, Year, Runtime (Minutes), Rating, Votes, Revenue (Millions), Metascore]\n",
       "Index: []"
      ]
     },
     "execution_count": 157,
     "metadata": {},
     "output_type": "execute_result"
    }
   ],
   "source": [
    "data[data['Title'].str.contains('Good Will Hunting')]"
   ]
  },
  {
   "cell_type": "code",
   "execution_count": 158,
   "metadata": {},
   "outputs": [
    {
     "data": {
      "text/plain": [
       "array([8.04980914])"
      ]
     },
     "execution_count": 158,
     "metadata": {},
     "output_type": "execute_result"
    }
   ],
   "source": [
    "lr.predict(np.array([70.0, 883669, 126]).reshape(1, -1))"
   ]
  },
  {
   "cell_type": "code",
   "execution_count": 159,
   "metadata": {},
   "outputs": [],
   "source": [
    "# Модель ошиблась на 0.3"
   ]
  },
  {
   "attachments": {
    "pic.jpg": {
     "image/jpeg": "[encoded data removed]"
    }
   },
   "cell_type": "markdown",
   "metadata": {},
   "source": [
    "![pic.jpg](attachment:pic.jpg)"
   ]
  },
  {
   "cell_type": "markdown",
   "metadata": {},
   "source": [
    "**Ridge Regression**"
   ]
  },
  {
   "cell_type": "code",
   "execution_count": 160,
   "metadata": {},
   "outputs": [],
   "source": [
    "rg=Ridge(alpha=1000)\n",
    "rg.fit(X_train, y_train)\n",
    "train_pred = rg.predict(X_train)\n",
    "test_pred = rg.predict(X_test)"
   ]
  },
  {
   "cell_type": "code",
   "execution_count": 161,
   "metadata": {},
   "outputs": [
    {
     "name": "stdout",
     "output_type": "stream",
     "text": [
      "cross_val: 0.5248314652290013\n",
      "coef: [('Rating', 0.027186431894089248), ('Metascore', 1.2709264037639565e-06), ('Votes', 0.005596573148978247)]\n"
     ]
    }
   ],
   "source": [
    "print_val(rg, data1)"
   ]
  },
  {
   "cell_type": "code",
   "execution_count": 162,
   "metadata": {},
   "outputs": [
    {
     "name": "stdout",
     "output_type": "stream",
     "text": [
      "\n",
      "Train set evaluation:\n",
      "\n",
      "MAE: 0.4256008267447275\n",
      "MSE: 0.3252100511535576\n",
      "RMSE: 0.5702719098408737\n",
      "R2 Square: 0.5487492079775096\n",
      "\n",
      "Test set evaluation:\n",
      "\n",
      "MAE: 0.40149959129561386\n",
      "MSE: 0.3640973917637274\n",
      "RMSE: 0.6034048324000458\n",
      "R2 Square: 0.6022242624576903\n"
     ]
    }
   ],
   "source": [
    "print('\\nTrain set evaluation:\\n')\n",
    "print_evaluate(y_train, train_pred)\n",
    "\n",
    "print('\\nTest set evaluation:\\n')\n",
    "print_evaluate(y_test, test_pred)"
   ]
  },
  {
   "cell_type": "code",
   "execution_count": 163,
   "metadata": {},
   "outputs": [
    {
     "data": {
      "text/html": [
       "<div>\n",
       "<style scoped>\n",
       "    .dataframe tbody tr th:only-of-type {\n",
       "        vertical-align: middle;\n",
       "    }\n",
       "\n",
       "    .dataframe tbody tr th {\n",
       "        vertical-align: top;\n",
       "    }\n",
       "\n",
       "    .dataframe thead th {\n",
       "        text-align: right;\n",
       "    }\n",
       "</style>\n",
       "<table border=\"1\" class=\"dataframe\">\n",
       "  <thead>\n",
       "    <tr style=\"text-align: right;\">\n",
       "      <th></th>\n",
       "      <th>Model</th>\n",
       "      <th>MAE</th>\n",
       "      <th>MSE</th>\n",
       "      <th>RMSE</th>\n",
       "      <th>R2 Square</th>\n",
       "      <th>Cross Validation</th>\n",
       "      <th>Coef</th>\n",
       "    </tr>\n",
       "  </thead>\n",
       "  <tbody>\n",
       "    <tr>\n",
       "      <th>0</th>\n",
       "      <td>Linear Regression</td>\n",
       "      <td>0.40152</td>\n",
       "      <td>0.363627</td>\n",
       "      <td>0.603015</td>\n",
       "      <td>0.602738</td>\n",
       "      <td>0.524891</td>\n",
       "      <td>[(Rating, 0.0273544923644187), (Metascore, 1.2...</td>\n",
       "    </tr>\n",
       "    <tr>\n",
       "      <th>1</th>\n",
       "      <td>Ridge Regression</td>\n",
       "      <td>0.40150</td>\n",
       "      <td>0.364097</td>\n",
       "      <td>0.603405</td>\n",
       "      <td>0.602224</td>\n",
       "      <td>0.524831</td>\n",
       "      <td>[(Rating, 0.027186431894089248), (Metascore, 1...</td>\n",
       "    </tr>\n",
       "  </tbody>\n",
       "</table>\n",
       "</div>"
      ],
      "text/plain": [
       "               Model      MAE       MSE      RMSE  R2 Square  \\\n",
       "0  Linear Regression  0.40152  0.363627  0.603015   0.602738   \n",
       "1   Ridge Regression  0.40150  0.364097  0.603405   0.602224   \n",
       "\n",
       "   Cross Validation                                               Coef  \n",
       "0          0.524891  [(Rating, 0.0273544923644187), (Metascore, 1.2...  \n",
       "1          0.524831  [(Rating, 0.027186431894089248), (Metascore, 1...  "
      ]
     },
     "execution_count": 163,
     "metadata": {},
     "output_type": "execute_result"
    }
   ],
   "source": [
    "results_df_len_2 = pd.DataFrame(data=[[\"Ridge Regression\", *evaluate(y_test, test_pred) , *val(rg, data1)]],\n",
    "                            columns=['Model', 'MAE', 'MSE', 'RMSE', 'R2 Square', \"Cross Validation\", \"Coef\"])\n",
    "results_df_len = results_df_len.append(results_df_len_2, ignore_index=True)\n",
    "results_df_len"
   ]
  },
  {
   "cell_type": "code",
   "execution_count": 164,
   "metadata": {},
   "outputs": [
    {
     "data": {
      "text/plain": [
       "array([8.05167952])"
      ]
     },
     "execution_count": 164,
     "metadata": {},
     "output_type": "execute_result"
    }
   ],
   "source": [
    "rg.predict(np.array([70.0, 883669, 126]).reshape(1, -1))"
   ]
  },
  {
   "cell_type": "code",
   "execution_count": null,
   "metadata": {},
   "outputs": [],
   "source": []
  },
  {
   "cell_type": "markdown",
   "metadata": {},
   "source": [
    "**Lasso Regression**"
   ]
  },
  {
   "cell_type": "code",
   "execution_count": 165,
   "metadata": {},
   "outputs": [],
   "source": [
    "ls=Lasso(alpha=0.00001)\n",
    "ls.fit(X_train, y_train)\n",
    "train_pred = ls.predict(X_train)\n",
    "test_pred = ls.predict(X_test)"
   ]
  },
  {
   "cell_type": "code",
   "execution_count": 166,
   "metadata": {},
   "outputs": [
    {
     "name": "stdout",
     "output_type": "stream",
     "text": [
      "cross_val: 0.5248913434117541\n",
      "coef: [('Rating', 0.027354456377231242), ('Metascore', 1.2653557717051922e-06), ('Votes', 0.005616491084498495)]\n"
     ]
    }
   ],
   "source": [
    "print_val(ls, data1)"
   ]
  },
  {
   "cell_type": "code",
   "execution_count": 167,
   "metadata": {},
   "outputs": [
    {
     "name": "stdout",
     "output_type": "stream",
     "text": [
      "\n",
      "Train set evaluation:\n",
      "\n",
      "MAE: 0.42548615116014865\n",
      "MSE: 0.32520259790758477\n",
      "RMSE: 0.5702653749857033\n",
      "R2 Square: 0.5487595498569702\n",
      "\n",
      "Test set evaluation:\n",
      "\n",
      "MAE: 0.40151971684945353\n",
      "MSE: 0.3636270836307455\n",
      "RMSE: 0.6030149945322633\n",
      "R2 Square: 0.6027380732366219\n"
     ]
    }
   ],
   "source": [
    "print('\\nTrain set evaluation:\\n')\n",
    "print_evaluate(y_train, train_pred)\n",
    "\n",
    "print('\\nTest set evaluation:\\n')\n",
    "print_evaluate(y_test, test_pred)"
   ]
  },
  {
   "cell_type": "code",
   "execution_count": 168,
   "metadata": {},
   "outputs": [
    {
     "data": {
      "text/html": [
       "<div>\n",
       "<style scoped>\n",
       "    .dataframe tbody tr th:only-of-type {\n",
       "        vertical-align: middle;\n",
       "    }\n",
       "\n",
       "    .dataframe tbody tr th {\n",
       "        vertical-align: top;\n",
       "    }\n",
       "\n",
       "    .dataframe thead th {\n",
       "        text-align: right;\n",
       "    }\n",
       "</style>\n",
       "<table border=\"1\" class=\"dataframe\">\n",
       "  <thead>\n",
       "    <tr style=\"text-align: right;\">\n",
       "      <th></th>\n",
       "      <th>Model</th>\n",
       "      <th>MAE</th>\n",
       "      <th>MSE</th>\n",
       "      <th>RMSE</th>\n",
       "      <th>R2 Square</th>\n",
       "      <th>Cross Validation</th>\n",
       "      <th>Coef</th>\n",
       "    </tr>\n",
       "  </thead>\n",
       "  <tbody>\n",
       "    <tr>\n",
       "      <th>0</th>\n",
       "      <td>Linear Regression</td>\n",
       "      <td>0.40152</td>\n",
       "      <td>0.363627</td>\n",
       "      <td>0.603015</td>\n",
       "      <td>0.602738</td>\n",
       "      <td>0.524891</td>\n",
       "      <td>[(Rating, 0.0273544923644187), (Metascore, 1.2...</td>\n",
       "    </tr>\n",
       "    <tr>\n",
       "      <th>1</th>\n",
       "      <td>Ridge Regression</td>\n",
       "      <td>0.40150</td>\n",
       "      <td>0.364097</td>\n",
       "      <td>0.603405</td>\n",
       "      <td>0.602224</td>\n",
       "      <td>0.524831</td>\n",
       "      <td>[(Rating, 0.027186431894089248), (Metascore, 1...</td>\n",
       "    </tr>\n",
       "    <tr>\n",
       "      <th>2</th>\n",
       "      <td>Lasso Regression</td>\n",
       "      <td>0.40152</td>\n",
       "      <td>0.363627</td>\n",
       "      <td>0.603015</td>\n",
       "      <td>0.602738</td>\n",
       "      <td>0.524891</td>\n",
       "      <td>[(Rating, 0.027354456377231242), (Metascore, 1...</td>\n",
       "    </tr>\n",
       "  </tbody>\n",
       "</table>\n",
       "</div>"
      ],
      "text/plain": [
       "               Model      MAE       MSE      RMSE  R2 Square  \\\n",
       "0  Linear Regression  0.40152  0.363627  0.603015   0.602738   \n",
       "1   Ridge Regression  0.40150  0.364097  0.603405   0.602224   \n",
       "2   Lasso Regression  0.40152  0.363627  0.603015   0.602738   \n",
       "\n",
       "   Cross Validation                                               Coef  \n",
       "0          0.524891  [(Rating, 0.0273544923644187), (Metascore, 1.2...  \n",
       "1          0.524831  [(Rating, 0.027186431894089248), (Metascore, 1...  \n",
       "2          0.524891  [(Rating, 0.027354456377231242), (Metascore, 1...  "
      ]
     },
     "execution_count": 168,
     "metadata": {},
     "output_type": "execute_result"
    }
   ],
   "source": [
    "results_df_len_3 = pd.DataFrame(data=[[\"Lasso Regression\", *evaluate(y_test, test_pred) , *val(ls, data1)]], \n",
    "                            columns=['Model', 'MAE', 'MSE', 'RMSE', 'R2 Square', \"Cross Validation\", \"Coef\"])\n",
    "results_df_len = results_df_len.append(results_df_len_3, ignore_index=True)\n",
    "results_df_len"
   ]
  },
  {
   "cell_type": "code",
   "execution_count": 169,
   "metadata": {},
   "outputs": [
    {
     "data": {
      "text/plain": [
       "array([8.04981001])"
      ]
     },
     "execution_count": 169,
     "metadata": {},
     "output_type": "execute_result"
    }
   ],
   "source": [
    "ls.predict(np.array([70.0, 883669, 126]).reshape(1, -1))"
   ]
  },
  {
   "cell_type": "code",
   "execution_count": null,
   "metadata": {},
   "outputs": [],
   "source": []
  },
  {
   "cell_type": "markdown",
   "metadata": {},
   "source": [
    "**ElasticNet**"
   ]
  },
  {
   "cell_type": "code",
   "execution_count": 170,
   "metadata": {},
   "outputs": [],
   "source": [
    "el_net = ElasticNet(alpha=0.00001)\n",
    "el_net.fit(X_train, y_train)\n",
    "train_pred = el_net.predict(X_train)\n",
    "test_pred = el_net.predict(X_test)"
   ]
  },
  {
   "cell_type": "code",
   "execution_count": 171,
   "metadata": {},
   "outputs": [
    {
     "name": "stdout",
     "output_type": "stream",
     "text": [
      "cross_val: 0.5248913468884832\n",
      "coef: [('Rating', 0.027354473842044737), ('Metascore', 1.2653545854965602e-06), ('Votes', 0.005616509087489623)]\n"
     ]
    }
   ],
   "source": [
    "print_val(el_net, data1)"
   ]
  },
  {
   "cell_type": "code",
   "execution_count": 172,
   "metadata": {},
   "outputs": [
    {
     "name": "stdout",
     "output_type": "stream",
     "text": [
      "\n",
      "Train set evaluation:\n",
      "\n",
      "MAE: 0.42548614623546493\n",
      "MSE: 0.32520259790705\n",
      "RMSE: 0.5702653749852343\n",
      "R2 Square: 0.5487595498577122\n",
      "\n",
      "Test set evaluation:\n",
      "\n",
      "MAE: 0.40151971170080497\n",
      "MSE: 0.36362699120699804\n",
      "RMSE: 0.6030149178975576\n",
      "R2 Square: 0.6027381742093976\n"
     ]
    }
   ],
   "source": [
    "print('\\nTrain set evaluation:\\n')\n",
    "print_evaluate(y_train, train_pred)\n",
    "\n",
    "print('\\nTest set evaluation:\\n')\n",
    "print_evaluate(y_test, test_pred)"
   ]
  },
  {
   "cell_type": "code",
   "execution_count": 173,
   "metadata": {},
   "outputs": [
    {
     "data": {
      "text/html": [
       "<div>\n",
       "<style scoped>\n",
       "    .dataframe tbody tr th:only-of-type {\n",
       "        vertical-align: middle;\n",
       "    }\n",
       "\n",
       "    .dataframe tbody tr th {\n",
       "        vertical-align: top;\n",
       "    }\n",
       "\n",
       "    .dataframe thead th {\n",
       "        text-align: right;\n",
       "    }\n",
       "</style>\n",
       "<table border=\"1\" class=\"dataframe\">\n",
       "  <thead>\n",
       "    <tr style=\"text-align: right;\">\n",
       "      <th></th>\n",
       "      <th>Model</th>\n",
       "      <th>MAE</th>\n",
       "      <th>MSE</th>\n",
       "      <th>RMSE</th>\n",
       "      <th>R2 Square</th>\n",
       "      <th>Cross Validation</th>\n",
       "      <th>Coef</th>\n",
       "    </tr>\n",
       "  </thead>\n",
       "  <tbody>\n",
       "    <tr>\n",
       "      <th>0</th>\n",
       "      <td>Linear Regression</td>\n",
       "      <td>0.40152</td>\n",
       "      <td>0.363627</td>\n",
       "      <td>0.603015</td>\n",
       "      <td>0.602738</td>\n",
       "      <td>0.524891</td>\n",
       "      <td>[(Rating, 0.0273544923644187), (Metascore, 1.2...</td>\n",
       "    </tr>\n",
       "    <tr>\n",
       "      <th>1</th>\n",
       "      <td>Ridge Regression</td>\n",
       "      <td>0.40150</td>\n",
       "      <td>0.364097</td>\n",
       "      <td>0.603405</td>\n",
       "      <td>0.602224</td>\n",
       "      <td>0.524831</td>\n",
       "      <td>[(Rating, 0.027186431894089248), (Metascore, 1...</td>\n",
       "    </tr>\n",
       "    <tr>\n",
       "      <th>2</th>\n",
       "      <td>Lasso Regression</td>\n",
       "      <td>0.40152</td>\n",
       "      <td>0.363627</td>\n",
       "      <td>0.603015</td>\n",
       "      <td>0.602738</td>\n",
       "      <td>0.524891</td>\n",
       "      <td>[(Rating, 0.027354456377231242), (Metascore, 1...</td>\n",
       "    </tr>\n",
       "    <tr>\n",
       "      <th>3</th>\n",
       "      <td>ElasticNet</td>\n",
       "      <td>0.40152</td>\n",
       "      <td>0.363627</td>\n",
       "      <td>0.603015</td>\n",
       "      <td>0.602738</td>\n",
       "      <td>0.524891</td>\n",
       "      <td>[(Rating, 0.027354473842044737), (Metascore, 1...</td>\n",
       "    </tr>\n",
       "  </tbody>\n",
       "</table>\n",
       "</div>"
      ],
      "text/plain": [
       "               Model      MAE       MSE      RMSE  R2 Square  \\\n",
       "0  Linear Regression  0.40152  0.363627  0.603015   0.602738   \n",
       "1   Ridge Regression  0.40150  0.364097  0.603405   0.602224   \n",
       "2   Lasso Regression  0.40152  0.363627  0.603015   0.602738   \n",
       "3         ElasticNet  0.40152  0.363627  0.603015   0.602738   \n",
       "\n",
       "   Cross Validation                                               Coef  \n",
       "0          0.524891  [(Rating, 0.0273544923644187), (Metascore, 1.2...  \n",
       "1          0.524831  [(Rating, 0.027186431894089248), (Metascore, 1...  \n",
       "2          0.524891  [(Rating, 0.027354456377231242), (Metascore, 1...  \n",
       "3          0.524891  [(Rating, 0.027354473842044737), (Metascore, 1...  "
      ]
     },
     "execution_count": 173,
     "metadata": {},
     "output_type": "execute_result"
    }
   ],
   "source": [
    "results_df_len_4 = pd.DataFrame(data=[[\"ElasticNet\", *evaluate(y_test, test_pred) , *val(el_net, data1)]], \n",
    "                            columns=['Model', 'MAE', 'MSE', 'RMSE', 'R2 Square', \"Cross Validation\", \"Coef\"])\n",
    "results_df_len = results_df_len.append(results_df_len_4, ignore_index=True)\n",
    "results_df_len"
   ]
  },
  {
   "cell_type": "code",
   "execution_count": 174,
   "metadata": {},
   "outputs": [
    {
     "data": {
      "text/plain": [
       "array([8.04980958])"
      ]
     },
     "execution_count": 174,
     "metadata": {},
     "output_type": "execute_result"
    }
   ],
   "source": [
    "el_net.predict(np.array([70.0, 883669, 126]).reshape(1, -1))"
   ]
  },
  {
   "cell_type": "code",
   "execution_count": null,
   "metadata": {},
   "outputs": [],
   "source": [
    "# Все модели дали практически одинаковый результат, у Ridge Regression MAE меньше на 0.00002 (не существенно)"
   ]
  },
  {
   "cell_type": "code",
   "execution_count": null,
   "metadata": {},
   "outputs": [],
   "source": []
  },
  {
   "cell_type": "code",
   "execution_count": null,
   "metadata": {},
   "outputs": [],
   "source": []
  }
 ],
 "metadata": {
  "kernelspec": {
   "display_name": "Python 3",
   "language": "python",
   "name": "python3"
  },
  "language_info": {
   "codemirror_mode": {
    "name": "ipython",
    "version": 3
   },
   "file_extension": ".py",
   "mimetype": "text/x-python",
   "name": "python",
   "nbconvert_exporter": "python",
   "pygments_lexer": "ipython3",
   "version": "3.8.5"
  }
 },
 "nbformat": 4,
 "nbformat_minor": 4
}
